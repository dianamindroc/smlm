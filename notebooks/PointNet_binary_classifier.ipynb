{
 "cells": [
  {
   "cell_type": "code",
   "execution_count": null,
   "id": "d467611a",
   "metadata": {},
   "outputs": [],
   "source": [
    "from pointnet.pn_dataset import PointNetDataset\n",
    "from pointnet.model import PointNetLayer, PointNet"
   ]
  },
  {
   "cell_type": "code",
   "execution_count": null,
   "id": "9cff0e19",
   "metadata": {},
   "outputs": [],
   "source": [
    "from torch_geometric.loader import DataLoader\n",
    "import numpy as np\n",
    "import glob\n",
    "import torch\n",
    "import pandas as pd\n",
    "from torch_cluster import knn_graph\n",
    "import os\n",
    "import os.path as osp\n",
    "from torch.utils.tensorboard import SummaryWriter\n",
    "import torch"
   ]
  },
  {
   "cell_type": "code",
   "execution_count": null,
   "id": "3e163ddf",
   "metadata": {},
   "outputs": [],
   "source": [
    "device = torch.device(\"cuda:0\" if torch.cuda.is_available() else \"cpu\")\n",
    "if device == 'cpu':\n",
    "    print('Warning, training on cpu')"
   ]
  },
  {
   "cell_type": "markdown",
   "id": "6a1d6cee",
   "metadata": {},
   "source": [
    "### Load data "
   ]
  },
  {
   "cell_type": "code",
   "execution_count": null,
   "id": "a1dc06b1",
   "metadata": {},
   "outputs": [],
   "source": [
    "root_dir = '/home/dim26fa/data/imod_models/symmetry/'\n",
    "train_pc = glob.glob(root_dir + '/*/preprocessed/train/*/*Localizations*.csv')\n",
    "test_pc = glob.glob(root_dir + '/*/preprocessed/test/*/*Localizations*.csv')"
   ]
  },
  {
   "cell_type": "code",
   "execution_count": null,
   "id": "aab4dcf5",
   "metadata": {},
   "outputs": [],
   "source": [
    "from torch_geometric.transforms import Compose, RandomRotate\n",
    "\n",
    "torch.manual_seed(123)\n",
    "\n",
    "random_rotate = Compose([\n",
    "    RandomRotate(degrees=180, axis=0),\n",
    "    RandomRotate(degrees=180, axis=1),\n",
    "    RandomRotate(degrees=180, axis=2),\n",
    "])\n"
   ]
  },
  {
   "cell_type": "code",
   "execution_count": null,
   "id": "d2ebd2f7",
   "metadata": {},
   "outputs": [],
   "source": [
    "train_dataset = PointNetDataset(train_pc, transform=random_rotate)\n",
    "test_dataset = PointNetDataset(test_pc, transform=random_rotate)"
   ]
  },
  {
   "cell_type": "code",
   "execution_count": null,
   "id": "240bc689",
   "metadata": {},
   "outputs": [],
   "source": [
    "train_loader = DataLoader(train_dataset, batch_size=20, shuffle=True)\n",
    "test_loader = DataLoader(test_dataset, batch_size=10)"
   ]
  },
  {
   "cell_type": "code",
   "execution_count": null,
   "id": "43e88b87",
   "metadata": {},
   "outputs": [],
   "source": [
    "for data in train_loader:\n",
    "    print(data.y)"
   ]
  },
  {
   "cell_type": "markdown",
   "id": "da136868",
   "metadata": {},
   "source": [
    "### Try another data class"
   ]
  },
  {
   "cell_type": "code",
   "execution_count": null,
   "id": "ad4db3e1",
   "metadata": {},
   "outputs": [],
   "source": [
    "from torch_geometric.data import Data\n",
    "from torch_geometric.loader import DataLoader\n",
    "\n",
    "train_list = []\n",
    "for idx, path in enumerate(train_pc):\n",
    "    processed_dir = os.path.dirname(path)\n",
    "    df = pd.read_csv(path)\n",
    "    arr = np.array(df)\n",
    "    tens = torch.tensor(arr, dtype=torch.float)\n",
    "        #edge_index = knn_graph(tens, k=6)\n",
    "    class_name = path.split('/')[-5]\n",
    "    if class_name == 'npc_6fold':\n",
    "        label = 0\n",
    "    else:\n",
    "        label = 1\n",
    "    data = Data(pos=tens,\n",
    "                #edge_index=edge_index,\n",
    "                y=torch.tensor(label, dtype=torch.int64)\n",
    "                )\n",
    "    torch.save(data, osp.join(processed_dir, f'data_{idx}.pt'))\n",
    "    train_list.append(data)\n",
    "\n",
    "train_loader = DataLoader(train_list, batch_size=20, shuffle=True)"
   ]
  },
  {
   "cell_type": "code",
   "execution_count": null,
   "id": "ba4b0fdd",
   "metadata": {},
   "outputs": [],
   "source": [
    "test_list = []\n",
    "for idx, path in enumerate(test_pc):\n",
    "    processed_dir = os.path.dirname(path)\n",
    "    df = pd.read_csv(path)\n",
    "    arr = np.array(df)\n",
    "    tens = torch.tensor(arr, dtype=torch.float)\n",
    "        #edge_index = knn_graph(tens, k=6)\n",
    "    class_name = path.split('/')[-5]\n",
    "    if class_name == 'npc_6fold':\n",
    "        label = 0\n",
    "    else:\n",
    "        label = 1\n",
    "    data = Data(pos=tens,\n",
    "                #edge_index=edge_index,\n",
    "                y=torch.tensor(label, dtype=torch.int64)\n",
    "                )\n",
    "    torch.save(data, osp.join(processed_dir, f'data_{idx}.pt'))\n",
    "    test_list.append(data)\n",
    "\n",
    "test_loader = DataLoader(test_list, batch_size=10)"
   ]
  },
  {
   "cell_type": "code",
   "execution_count": null,
   "id": "ce295443",
   "metadata": {},
   "outputs": [],
   "source": [
    "for i in train_loader:\n",
    "    print(i.y)"
   ]
  },
  {
   "cell_type": "code",
   "execution_count": null,
   "id": "cc093a70",
   "metadata": {},
   "outputs": [],
   "source": [
    "train_loader.dataset[0].batch"
   ]
  },
  {
   "cell_type": "code",
   "execution_count": null,
   "id": "21fdd571",
   "metadata": {},
   "outputs": [],
   "source": [
    "dirnames = []\n",
    "for pc in test_pc:\n",
    "    dirnames.append(os.path.dirname(pc))"
   ]
  },
  {
   "cell_type": "code",
   "execution_count": null,
   "id": "e38fa181",
   "metadata": {},
   "outputs": [],
   "source": [
    "for folder in dirnames:\n",
    "    files = glob.glob(folder + '/*.pt')\n",
    "    for file in files: \n",
    "        os.remove(file)"
   ]
  },
  {
   "cell_type": "code",
   "execution_count": null,
   "id": "0fedec2c",
   "metadata": {},
   "outputs": [],
   "source": []
  },
  {
   "cell_type": "markdown",
   "id": "b9f3da2a",
   "metadata": {},
   "source": [
    "### Load model"
   ]
  },
  {
   "cell_type": "code",
   "execution_count": null,
   "id": "e74c988d",
   "metadata": {},
   "outputs": [],
   "source": [
    "writer = SummaryWriter()"
   ]
  },
  {
   "cell_type": "code",
   "execution_count": null,
   "id": "8d7f9729",
   "metadata": {},
   "outputs": [],
   "source": [
    "model = PointNet()"
   ]
  },
  {
   "cell_type": "code",
   "execution_count": null,
   "id": "8936615a",
   "metadata": {},
   "outputs": [],
   "source": [
    "optimizer = torch.optim.Adam(model.parameters(), lr=3e-5)\n",
    "criterion = torch.nn.CrossEntropyLoss()  # Define loss criterion."
   ]
  },
  {
   "cell_type": "markdown",
   "id": "62ce3c06",
   "metadata": {},
   "source": [
    "### Training and testing functions "
   ]
  },
  {
   "cell_type": "code",
   "execution_count": null,
   "id": "23928261",
   "metadata": {},
   "outputs": [],
   "source": [
    "def train(model, optimizer, loader):\n",
    "    model.train()\n",
    "\n",
    "    total_loss = 0\n",
    "    for data in loader:\n",
    "        optimizer.zero_grad()  # Clear gradients.\n",
    "        logits = model(data.pos, data.batch)  # Forward pass.\n",
    "        loss = criterion(logits, data.y)  # Loss computation.\n",
    "        loss.backward()  # Backward pass.\n",
    "        optimizer.step()  # Update model parameters.\n",
    "        total_loss += loss.item() * data.num_graphs\n",
    "        writer.add_scalar('training loss',\n",
    "                            total_loss/len(train_loader.dataset))\n",
    "    return total_loss / len(train_loader.dataset)\n",
    "\n",
    "\n",
    "@torch.no_grad()\n",
    "def test(model, loader):\n",
    "    model.eval()\n",
    "\n",
    "    total_correct = 0\n",
    "    mis=[]\n",
    "    for data in loader:\n",
    "        logits = model(data.pos, data.batch)\n",
    "        pred = logits.argmax(dim=-1)\n",
    "        total_correct += int((pred == data.y).sum())\n",
    "        for i, label in enumerate(data.y):\n",
    "            if pred[i]!=label:\n",
    "                mis.append(data[i].pos)\n",
    "    return total_correct / len(loader.dataset), mis"
   ]
  },
  {
   "cell_type": "markdown",
   "id": "fde2777e",
   "metadata": {},
   "source": [
    "### Training and testing procedure"
   ]
  },
  {
   "cell_type": "code",
   "execution_count": null,
   "id": "c6554edf",
   "metadata": {},
   "outputs": [],
   "source": [
    "losses = []\n",
    "accuracies = []\n",
    "misclassified = []\n",
    "for epoch in range(1, 800):\n",
    "    loss = train(model, optimizer, train_loader)\n",
    "    losses.append(loss)\n",
    "    test_acc, miss = test(model, test_loader)\n",
    "    if epoch>600:\n",
    "        misclassified.append(miss)\n",
    "    accuracies.append(test_acc)     \n",
    "    print(f'Epoch: {epoch:02d}, Loss: {loss:.4f}, Test Accuracy: {test_acc:.4f}')\n",
    "writer.flush()"
   ]
  },
  {
   "cell_type": "code",
   "execution_count": null,
   "id": "818200d9",
   "metadata": {},
   "outputs": [],
   "source": [
    "writer.close()"
   ]
  },
  {
   "cell_type": "code",
   "execution_count": null,
   "id": "8b5e1741",
   "metadata": {},
   "outputs": [],
   "source": [
    "torch.save(model.state_dict(), '/home/dim26fa/coding/smlm_v2/models/11082022_pointnet_symmetry_6fold8fold/'+'.pth')"
   ]
  },
  {
   "cell_type": "code",
   "execution_count": null,
   "id": "65f5ebb3",
   "metadata": {},
   "outputs": [],
   "source": [
    "misclassified[0][1]"
   ]
  },
  {
   "cell_type": "code",
   "execution_count": null,
   "id": "6777f911",
   "metadata": {},
   "outputs": [],
   "source": [
    "k = 0\n",
    "for list in misclassified:\n",
    "    for pc in list:\n",
    "        np.save('/home/dim26fa/coding/smlm_v2/models/11082022_pointnet_symmetry_6fold8fold/misclassified' + str(k) + '.npy', pc)\n",
    "        k += 1"
   ]
  },
  {
   "cell_type": "code",
   "execution_count": null,
   "id": "ab764ed7",
   "metadata": {},
   "outputs": [],
   "source": [
    "len(misclassified[180])"
   ]
  },
  {
   "cell_type": "code",
   "execution_count": null,
   "id": "4fa7cc05",
   "metadata": {},
   "outputs": [],
   "source": [
    "len(misclassified[77])"
   ]
  },
  {
   "cell_type": "code",
   "execution_count": null,
   "id": "b05d798e",
   "metadata": {},
   "outputs": [],
   "source": [
    "k = 0\n",
    "for pc in misclassified[77]:\n",
    "    np.save('/home/dim26fa/coding/smlm_v2/models/11082022_pointnet_symmetry_6fold8fold/misclassified' + str(k) + '.npy', pc)\n",
    "    k += 1"
   ]
  },
  {
   "cell_type": "code",
   "execution_count": null,
   "id": "84ef553f",
   "metadata": {},
   "outputs": [],
   "source": [
    "np.save('/home/dim26fa/coding/smlm_v2/models/11082022_pointnet_symmetry_6fold8fold/misclassified.npy', misclassified)"
   ]
  },
  {
   "cell_type": "code",
   "execution_count": null,
   "id": "c374e23a",
   "metadata": {},
   "outputs": [],
   "source": [
    "import matplotlib.pyplot as plt"
   ]
  },
  {
   "cell_type": "code",
   "execution_count": null,
   "id": "4138e2c1",
   "metadata": {},
   "outputs": [],
   "source": [
    "plt.plot(accuracies, color='#00B6CA')"
   ]
  },
  {
   "cell_type": "code",
   "execution_count": null,
   "id": "2f221714",
   "metadata": {},
   "outputs": [],
   "source": [
    "plt.plot(losses, color='#00B6CA')"
   ]
  },
  {
   "cell_type": "markdown",
   "id": "e4344e9b",
   "metadata": {},
   "source": [
    "### NPC data from Heydarian et al. "
   ]
  },
  {
   "cell_type": "code",
   "execution_count": null,
   "id": "f919527b",
   "metadata": {},
   "outputs": [],
   "source": [
    "import scipy.io\n",
    "import torch"
   ]
  },
  {
   "cell_type": "code",
   "execution_count": null,
   "id": "66324024",
   "metadata": {},
   "outputs": [],
   "source": [
    "from helpers.visualization import Visualization3D\n",
    "from helpers.readers import Reader"
   ]
  },
  {
   "cell_type": "code",
   "execution_count": null,
   "id": "eef07436",
   "metadata": {},
   "outputs": [],
   "source": [
    "reader = Reader('/home/dim26fa/data/imod_models/symmetry/npc_6fold/preprocessed/train/')"
   ]
  },
  {
   "cell_type": "code",
   "execution_count": null,
   "id": "afa7c223",
   "metadata": {},
   "outputs": [],
   "source": [
    "reader.get_folders()\n",
    "reader.get_files_from_folder(145)\n",
    "reader.filter('.csv')"
   ]
  },
  {
   "cell_type": "code",
   "execution_count": null,
   "id": "66ab17e0",
   "metadata": {},
   "outputs": [],
   "source": [
    "reader.set_file(0)\n",
    "reader.read_csv()"
   ]
  },
  {
   "cell_type": "code",
   "execution_count": null,
   "id": "7fbbecd8",
   "metadata": {},
   "outputs": [],
   "source": [
    "reader.extract_xyz(column_names=['x','y','z'])"
   ]
  },
  {
   "cell_type": "code",
   "execution_count": null,
   "id": "07bf5e8a",
   "metadata": {},
   "outputs": [],
   "source": [
    "matfile['particles'][0][0][0][0][0][0]"
   ]
  },
  {
   "cell_type": "code",
   "execution_count": null,
   "id": "c8a76b1b",
   "metadata": {},
   "outputs": [],
   "source": [
    "particles = matfile['particles'][0]"
   ]
  },
  {
   "cell_type": "code",
   "execution_count": null,
   "id": "5b96e3f8",
   "metadata": {},
   "outputs": [],
   "source": [
    "particle1 = particles[200]\n",
    "df = pd.DataFrame(particle1[0]['coords'][0], columns = ['x','y','z','p1','p2','p3','p4','p5','p6', 'p7'])\n",
    "df_xyz = df[['x','y','z']]\n",
    "np.array(df_xyz)"
   ]
  },
  {
   "cell_type": "code",
   "execution_count": null,
   "id": "c62a26e2",
   "metadata": {},
   "outputs": [],
   "source": [
    "len(df_xyz)"
   ]
  },
  {
   "cell_type": "code",
   "execution_count": null,
   "id": "618dc035",
   "metadata": {},
   "outputs": [],
   "source": [
    "viz = Visualization3D(reader.df_xyz).get_3d_scatter(size=0.5).show()"
   ]
  },
  {
   "cell_type": "code",
   "execution_count": null,
   "id": "a79f1b18",
   "metadata": {},
   "outputs": [],
   "source": [
    "tens = torch.tensor(np.array(reader.df_xyz))"
   ]
  },
  {
   "cell_type": "code",
   "execution_count": null,
   "id": "766de61f",
   "metadata": {},
   "outputs": [],
   "source": [
    "knngr = knn_graph(x=tens, k=25)"
   ]
  },
  {
   "cell_type": "code",
   "execution_count": null,
   "id": "a42b616e",
   "metadata": {},
   "outputs": [],
   "source": [
    "knngr"
   ]
  },
  {
   "cell_type": "code",
   "execution_count": null,
   "id": "ec2fd9f5",
   "metadata": {},
   "outputs": [],
   "source": []
  },
  {
   "cell_type": "code",
   "execution_count": null,
   "id": "b50c93ec",
   "metadata": {},
   "outputs": [],
   "source": [
    "from sklearn.neighbors import KNeighborsTransformer\n",
    "import networkx as nx\n",
    "from pyvis.network import Network"
   ]
  },
  {
   "cell_type": "code",
   "execution_count": null,
   "id": "610e9baf",
   "metadata": {},
   "outputs": [],
   "source": [
    "transformer = KNeighborsTransformer(n_neighbors = 25, algorithm='ball_tree')\n",
    "transformer.fit_transform(reader.df_xyz)"
   ]
  },
  {
   "cell_type": "code",
   "execution_count": null,
   "id": "f63540e9",
   "metadata": {},
   "outputs": [],
   "source": [
    "graph = transformer.kneighbors_graph()\n",
    "nx_graph = nx.from_numpy_array(graph.toarray())"
   ]
  },
  {
   "cell_type": "code",
   "execution_count": null,
   "id": "c78ef9bb",
   "metadata": {},
   "outputs": [],
   "source": [
    "net = Network(notebook = True)\n",
    "net.show_buttons(filter_=['physics'])\n",
    "net.from_nx(nx_graph)\n",
    "net.show('graph.html')"
   ]
  },
  {
   "cell_type": "code",
   "execution_count": null,
   "id": "2f7af145",
   "metadata": {},
   "outputs": [],
   "source": [
    "for i in range(len(particles)):\n",
    "    particle = particles[i]\n",
    "    df = pd.DataFrame(particle[0]['coords'][0], columns = ['x','y','z','p1','p2','p3','p4','p5','p6', 'p7'])\n",
    "    df_xyz = df[['x','y','z']]\n",
    "    df_xyz.to_csv('/home/dim26fa/data/NPC_Heydarian/npc_' + str(i) + '.csv', index=False)"
   ]
  },
  {
   "cell_type": "code",
   "execution_count": null,
   "id": "68d3ec54",
   "metadata": {},
   "outputs": [],
   "source": [
    "import os\n",
    "import shutil"
   ]
  },
  {
   "cell_type": "code",
   "execution_count": null,
   "id": "de5bfd4c",
   "metadata": {},
   "outputs": [],
   "source": [
    "for i in range(51,256):\n",
    "    os.mkdir('/home/dim26fa/data/imod_models/binary/npc/train/sample_' + str(i))\n",
    "    shutil.move('/home/dim26fa/data/imod_models/binary/npc/train/npc_Localizations_' + str(i) + '.csv', '/home/dim26fa/data/imod_models/binary/npc/train/sample_' + str(i))"
   ]
  },
  {
   "cell_type": "code",
   "execution_count": null,
   "id": "9e354527",
   "metadata": {},
   "outputs": [],
   "source": [
    "from helpers.visualization import Visualization3D"
   ]
  },
  {
   "cell_type": "code",
   "execution_count": null,
   "id": "c4f74b20",
   "metadata": {},
   "outputs": [],
   "source": [
    "df = pd.DataFrame(misclassified[77][1].numpy(), columns = ['x','y','z'])"
   ]
  },
  {
   "cell_type": "code",
   "execution_count": null,
   "id": "b32da29d",
   "metadata": {},
   "outputs": [],
   "source": []
  },
  {
   "cell_type": "code",
   "execution_count": null,
   "id": "050aa996",
   "metadata": {},
   "outputs": [],
   "source": [
    "viz = Visualization3D(df).get_3d_scatter(size=1).show()"
   ]
  },
  {
   "cell_type": "code",
   "execution_count": null,
   "id": "ed68732e",
   "metadata": {},
   "outputs": [],
   "source": [
    "from helpers.readers import Reader"
   ]
  },
  {
   "cell_type": "code",
   "execution_count": null,
   "id": "1afb4717",
   "metadata": {},
   "outputs": [],
   "source": [
    "reader = Reader('/home/dim26fa/data/imod_models/symmetry/npc_8fold/preprocessed/test/')"
   ]
  },
  {
   "cell_type": "code",
   "execution_count": null,
   "id": "36b9a789",
   "metadata": {},
   "outputs": [],
   "source": [
    "reader.get_folders()"
   ]
  },
  {
   "cell_type": "code",
   "execution_count": null,
   "id": "8180f23f",
   "metadata": {},
   "outputs": [],
   "source": [
    "reader.get_files_from_folder(11)\n",
    "reader.filter('.csv')\n",
    "reader.set_file(0)\n",
    "df = reader.read_csv()\n",
    "viz = Visualization3D(df).get_3d_scatter(size=0.5).show()"
   ]
  }
 ],
 "metadata": {
  "kernelspec": {
   "display_name": "gpu2",
   "language": "python",
   "name": "gpu2"
  },
  "language_info": {
   "codemirror_mode": {
    "name": "ipython",
    "version": 3
   },
   "file_extension": ".py",
   "mimetype": "text/x-python",
   "name": "python",
   "nbconvert_exporter": "python",
   "pygments_lexer": "ipython3",
   "version": "3.9.7"
  }
 },
 "nbformat": 4,
 "nbformat_minor": 5
}
