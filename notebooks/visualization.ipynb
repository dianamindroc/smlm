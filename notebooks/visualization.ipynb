{
 "cells": [
  {
   "cell_type": "code",
   "execution_count": 1,
   "metadata": {
    "collapsed": true
   },
   "outputs": [],
   "source": [
    "from helpers.readers import Reader\n",
    "from helpers.visualization import Visualization\n",
    "import matplotlib.pyplot as plt"
   ]
  },
  {
   "cell_type": "markdown",
   "source": [
    "### Read data from the desired folder"
   ],
   "metadata": {
    "collapsed": false
   }
  },
  {
   "cell_type": "code",
   "execution_count": 2,
   "outputs": [],
   "source": [
    "reader = Reader('/Users/dianamindroc/Desktop/PhD/Data/localization Files for VSV-dSTORM')"
   ],
   "metadata": {
    "collapsed": false,
    "pycharm": {
     "name": "#%%\n"
    }
   }
  },
  {
   "cell_type": "code",
   "execution_count": 3,
   "outputs": [
    {
     "data": {
      "text/plain": "['Imporant Information for VSV shape analysis.pdf',\n 'WT-VSV-Anstibody_pAB+sAB-CF568',\n '.DS_Store',\n 'click-VSV-Pyr-tet-AF647',\n 'WT-VSV-Antibody_pAB-CF568',\n 'click-VSV-H-tet-Cy5']"
     },
     "execution_count": 3,
     "metadata": {},
     "output_type": "execute_result"
    }
   ],
   "source": [
    "reader.get_folders('all')"
   ],
   "metadata": {
    "collapsed": false,
    "pycharm": {
     "name": "#%%\n"
    }
   }
  },
  {
   "cell_type": "code",
   "execution_count": 4,
   "outputs": [
    {
     "data": {
      "text/plain": "['210203_hACE2_VSV_Anti-S2-pAB+sAB_CS1A_5-settings.txt',\n '210203_hACE2_VSV_Anti-S2-pAB+sAB_CS1A_2-settings.txt',\n '210203_hACE2_VSV_Anti-S2-pAB+sAB_CS1A_1.png',\n '210203_hACE2_VSV_Anti-S2-pAB+sAB_CS1A_3.png',\n '210203_hACE2_VSV_Anti-S2-pAB+sAB_CS1A_2.png',\n '210203_hACE2_VSV_Anti-S2-pAB+sAB_CS1A_6.png',\n '210203_hACE2_VSV_Anti-S2-pAB+sAB_CS1A_3-settings.txt',\n '210203_hACE2_VSV_Anti-S2-pAB+sAB_CS1A_4-settings.txt',\n '210203_hACE2_VSV_Anti-S2-pAB+sAB_CS1A_7.png',\n '210203_hACE2_VSV_Anti-S2-pAB+sAB_CS1A_5.png',\n '210203_hACE2_VSV_Anti-S2-pAB+sAB_CS1A_4.png',\n '210203_hACE2_VSV_Anti-S2-pAB+sAB_CS1A_1.txt',\n '210203_hACE2_VSV_Anti-S2-pAB+sAB_CS1A_2.txt',\n '210203_hACE2_VSV_Anti-S2-pAB+sAB_CS1A_3.txt',\n '210203_hACE2_VSV_Anti-S2-pAB+sAB_CS1A_7.txt',\n '210203_hACE2_VSV_Anti-S2-pAB+sAB_CS1A_6.txt',\n '210203_hACE2_VSV_Anti-S2-pAB+sAB_CS1A_4.txt',\n '210203_hACE2_VSV_Anti-S2-pAB+sAB_CS1A_5.txt',\n '210203_hACE2_VSV_Anti-S2-pAB+sAB_CS1A.txt',\n '210203_hACE2_VSV_Anti-S2-pAB+sAB_CS1A_6-settings.txt',\n '210203_hACE2_VSV_Anti-S2-pAB+sAB_CS1A_1-settings.txt',\n '210203_hACE2_VSV_Anti-S2-pAB+sAB_CS1A.png',\n '210203_hACE2_VSV_Anti-S2-pAB+sAB_CS1A_7-settings.txt',\n '210203_hACE2_VSV_Anti-S2-pAB+sAB_CS1A-settings.txt']"
     },
     "execution_count": 4,
     "metadata": {},
     "output_type": "execute_result"
    }
   ],
   "source": [
    "reader.get_files_from_folder(folder_number = 1)"
   ],
   "metadata": {
    "collapsed": false,
    "pycharm": {
     "name": "#%%\n"
    }
   }
  },
  {
   "cell_type": "code",
   "execution_count": 5,
   "outputs": [],
   "source": [
    "reader.filter('.txt')"
   ],
   "metadata": {
    "collapsed": false,
    "pycharm": {
     "name": "#%%\n"
    }
   }
  },
  {
   "cell_type": "code",
   "execution_count": 6,
   "outputs": [],
   "source": [
    "reader.set_file(reader.files[4])"
   ],
   "metadata": {
    "collapsed": false,
    "pycharm": {
     "name": "#%%\n"
    }
   }
  },
  {
   "cell_type": "code",
   "execution_count": 16,
   "outputs": [
    {
     "data": {
      "text/plain": "              0        1      2        3                          4\n0       1989.84  15775.4   1000  24913.8           0 758563 196.705\n1       1972.27  8823.23   1000  15155.9           0 404872 187.846\n2       11349.6  19183.2   1000  7028.76   0.066212 94266.6 183.408\n3       3622.75   6170.7   1000  6327.26           0 113850 180.036\n4        4072.9  9661.92   1000  5456.15           0 119643 179.669\n...         ...      ...    ...      ...                        ...\n337451  3610.96  6086.77  14995  1819.09          0 31231.6 164.693\n337452  11717.2  5805.58  14995  1742.73  0.0374562 32920.4 167.585\n337453   8418.3  4161.88  14995  1515.41          0 49341.5 165.526\n337454  20050.8  18329.4  14995  2225.88   0.0935815 25241.6 149.55\n337455  5876.08  17303.2  14995  1085.63          0 31551.9 156.569\n\n[337456 rows x 5 columns]",
      "text/html": "<div>\n<style scoped>\n    .dataframe tbody tr th:only-of-type {\n        vertical-align: middle;\n    }\n\n    .dataframe tbody tr th {\n        vertical-align: top;\n    }\n\n    .dataframe thead th {\n        text-align: right;\n    }\n</style>\n<table border=\"1\" class=\"dataframe\">\n  <thead>\n    <tr style=\"text-align: right;\">\n      <th></th>\n      <th>0</th>\n      <th>1</th>\n      <th>2</th>\n      <th>3</th>\n      <th>4</th>\n    </tr>\n  </thead>\n  <tbody>\n    <tr>\n      <th>0</th>\n      <td>1989.84</td>\n      <td>15775.4</td>\n      <td>1000</td>\n      <td>24913.8</td>\n      <td>0 758563 196.705</td>\n    </tr>\n    <tr>\n      <th>1</th>\n      <td>1972.27</td>\n      <td>8823.23</td>\n      <td>1000</td>\n      <td>15155.9</td>\n      <td>0 404872 187.846</td>\n    </tr>\n    <tr>\n      <th>2</th>\n      <td>11349.6</td>\n      <td>19183.2</td>\n      <td>1000</td>\n      <td>7028.76</td>\n      <td>0.066212 94266.6 183.408</td>\n    </tr>\n    <tr>\n      <th>3</th>\n      <td>3622.75</td>\n      <td>6170.7</td>\n      <td>1000</td>\n      <td>6327.26</td>\n      <td>0 113850 180.036</td>\n    </tr>\n    <tr>\n      <th>4</th>\n      <td>4072.9</td>\n      <td>9661.92</td>\n      <td>1000</td>\n      <td>5456.15</td>\n      <td>0 119643 179.669</td>\n    </tr>\n    <tr>\n      <th>...</th>\n      <td>...</td>\n      <td>...</td>\n      <td>...</td>\n      <td>...</td>\n      <td>...</td>\n    </tr>\n    <tr>\n      <th>337451</th>\n      <td>3610.96</td>\n      <td>6086.77</td>\n      <td>14995</td>\n      <td>1819.09</td>\n      <td>0 31231.6 164.693</td>\n    </tr>\n    <tr>\n      <th>337452</th>\n      <td>11717.2</td>\n      <td>5805.58</td>\n      <td>14995</td>\n      <td>1742.73</td>\n      <td>0.0374562 32920.4 167.585</td>\n    </tr>\n    <tr>\n      <th>337453</th>\n      <td>8418.3</td>\n      <td>4161.88</td>\n      <td>14995</td>\n      <td>1515.41</td>\n      <td>0 49341.5 165.526</td>\n    </tr>\n    <tr>\n      <th>337454</th>\n      <td>20050.8</td>\n      <td>18329.4</td>\n      <td>14995</td>\n      <td>2225.88</td>\n      <td>0.0935815 25241.6 149.55</td>\n    </tr>\n    <tr>\n      <th>337455</th>\n      <td>5876.08</td>\n      <td>17303.2</td>\n      <td>14995</td>\n      <td>1085.63</td>\n      <td>0 31551.9 156.569</td>\n    </tr>\n  </tbody>\n</table>\n<p>337456 rows × 5 columns</p>\n</div>"
     },
     "execution_count": 16,
     "metadata": {},
     "output_type": "execute_result"
    }
   ],
   "source": [
    "reader.read_txt(columns=4)"
   ],
   "metadata": {
    "collapsed": false,
    "pycharm": {
     "name": "#%%\n"
    }
   }
  },
  {
   "cell_type": "code",
   "execution_count": null,
   "outputs": [],
   "source": [
    "reader.extract_xy(column_indices=[0,1])"
   ],
   "metadata": {
    "collapsed": false,
    "pycharm": {
     "name": "#%%\n"
    }
   }
  },
  {
   "cell_type": "markdown",
   "source": [
    "### Visualize the data"
   ],
   "metadata": {
    "collapsed": false
   }
  },
  {
   "cell_type": "code",
   "execution_count": 19,
   "outputs": [],
   "source": [
    "viz = Visualization(reader.df_xy)"
   ],
   "metadata": {
    "collapsed": false,
    "pycharm": {
     "name": "#%%\n"
    }
   }
  },
  {
   "cell_type": "code",
   "execution_count": 20,
   "outputs": [
    {
     "data": {
      "text/plain": "<matplotlib.image.AxesImage at 0x7f7bfb9cabb0>"
     },
     "execution_count": 20,
     "metadata": {},
     "output_type": "execute_result"
    },
    {
     "data": {
      "text/plain": "<Figure size 432x288 with 1 Axes>",
      "image/png": "[encoded data removed]"
     },
     "metadata": {
      "needs_background": "light"
     },
     "output_type": "display_data"
    }
   ],
   "source": [
    "img, eq = viz.loc2img()\n",
    "plt.imshow(eq, cmap = 'pink')"
   ],
   "metadata": {
    "collapsed": false,
    "pycharm": {
     "name": "#%%\n"
    }
   }
  }
 ],
 "metadata": {
  "kernelspec": {
   "display_name": "Python 3",
   "language": "python",
   "name": "python3"
  },
  "language_info": {
   "codemirror_mode": {
    "name": "ipython",
    "version": 2
   },
   "file_extension": ".py",
   "mimetype": "text/x-python",
   "name": "python",
   "nbconvert_exporter": "python",
   "pygments_lexer": "ipython2",
   "version": "2.7.6"
  }
 },
 "nbformat": 4,
 "nbformat_minor": 0
}