{
 "cells": [
  {
   "cell_type": "markdown",
   "id": "69fb9ca8-308f-4e1d-aa75-ea863f567abc",
   "metadata": {},
   "source": [
    "### Install pytorch geometric if not installed"
   ]
  },
  {
   "cell_type": "code",
   "execution_count": null,
   "id": "88293e8f",
   "metadata": {},
   "outputs": [],
   "source": [
    "#| code-fold: true\n",
    "\n",
    "import os\n",
    "import torch\n",
    "os.environ['TORCH'] = torch.__version__\n",
    "print(torch.__version__)\n",
    "\n",
    "!pip install -q torch-scatter -f https://data.pyg.org/whl/torch-${TORCH}.html\n",
    "!pip install -q torch-sparse -f https://data.pyg.org/whl/torch-${TORCH}.html\n",
    "!pip install -q git+https://github.com/pyg-team/pytorch_geometric.git"
   ]
  },
  {
   "cell_type": "code",
   "execution_count": null,
   "id": "5bc4d2d5-0874-4f76-ae17-621a9c554d42",
   "metadata": {},
   "outputs": [],
   "source": [
    "import pandas as pd\n",
    "import numpy as np\n",
    "import networkx as nx"
   ]
  },
  {
   "cell_type": "code",
   "execution_count": null,
   "id": "4e941c90",
   "metadata": {},
   "outputs": [],
   "source": [
    "import torch\n",
    "from torch_geometric.datasets import Planetoid, KarateClub, Amazon, AmazonProducts\n",
    "import torch_geometric.transforms as T\n",
    "from torch_geometric.nn import GCNConv\n",
    "from torch_geometric.utils import train_test_split_edges\n",
    "from torch_geometric.loader import DataLoader\n",
    "from torch_geometric.data import Data\n",
    "\n",
    "from sklearn.neighbors import KNeighborsTransformer\n",
    "\n",
    "torch.manual_seed(12345)"
   ]
  },
  {
   "cell_type": "markdown",
   "id": "bc250ee7",
   "metadata": {},
   "source": [
    "### Public dataset"
   ]
  },
  {
   "cell_type": "code",
   "execution_count": null,
   "id": "8d14cd43",
   "metadata": {},
   "outputs": [],
   "source": [
    "#TODO add my dataset\n",
    "dataset_public = Planetoid(\"\\..\", \"CiteSeer\", transform=T.NormalizeFeatures())\n",
    "data_public = dataset[0]"
   ]
  },
  {
   "cell_type": "code",
   "execution_count": null,
   "id": "87a349ae",
   "metadata": {},
   "outputs": [],
   "source": [
    "data_public.train_mask = data.val_mask = data.test_mask = None\n",
    "data_public = train_test_split_edges(data_public)"
   ]
  },
  {
   "cell_type": "code",
   "execution_count": null,
   "id": "5c29d65d",
   "metadata": {},
   "outputs": [],
   "source": [
    "from torch_geometric.transforms import Compose, RandomRotate\n",
    "\n",
    "torch.manual_seed(123)\n",
    "\n",
    "random_rotate = Compose([\n",
    "    RandomRotate(degrees=180, axis=0),\n",
    "    RandomRotate(degrees=180, axis=1),\n",
    "    RandomRotate(degrees=180, axis=2),\n",
    "])\n"
   ]
  },
  {
   "cell_type": "markdown",
   "id": "dc61fb2c",
   "metadata": {},
   "source": [
    "### Simulated dataset"
   ]
  },
  {
   "cell_type": "code",
   "execution_count": null,
   "id": "9313f18a",
   "metadata": {},
   "outputs": [],
   "source": [
    "root_dir = '/home/dim26fa/data/imod_models/mitochondria/'\n",
    "train_pc = glob.glob(root_dir + '/preprocessed/train/*/*Localizations*.csv')\n",
    "test_pc = glob.glob(root_dir + '/preprocessed/test/*/*Localizations*.csv')"
   ]
  },
  {
   "cell_type": "code",
   "execution_count": null,
   "id": "85d055b7",
   "metadata": {},
   "outputs": [],
   "source": [
    "#| code-fold: true\n",
    "\n",
    "\n",
    "from torch_geometric.transforms import RandomLinkSplit, RandomNodeSplit\n",
    "\n",
    "## designed for transductive learning\n",
    "tfs = RandomLinkSplit(is_undirected=True, \n",
    "                      add_negative_train_samples=True,\n",
    "                      neg_sampling_ratio=1.0,\n",
    "                      key = \"edge_label\", # supervision label\n",
    "                      disjoint_train_ratio=0,# disjoint mode if > 0\n",
    "                      # edge_types=None, # for heteroData\n",
    "                      # rev_edge_types=None, # for heteroData\n",
    "                      )"
   ]
  },
  {
   "cell_type": "code",
   "execution_count": null,
   "id": "68d259d0",
   "metadata": {},
   "outputs": [],
   "source": [
    "# gotta fix this\n",
    "\n",
    "from torch_geometric.transforms import KNNGraph\n",
    "\n",
    "train_list = []\n",
    "for idx, path in enumerate(train_pc):\n",
    "    processed_dir = os.path.dirname(path)\n",
    "    df = pd.read_csv(path)\n",
    "    tens = torch.tensor(np.array(df), dtype=torch.float)\n",
    "        #edge_index = knn_graph(tens, k=6)\n",
    "    data = Data(pos=tens,\n",
    "                #edge_index=edge_index,\n",
    "                )\n",
    "    transf = KNNGraph(3)\n",
    "    data_t = transf(data)\n",
    "    split = tfs(data_t)\n",
    "    torch.save(split, osp.join(processed_dir, f'data_{idx}.pt'))\n",
    "    train_list.append(split)\n",
    "\n",
    "train_loader = DataLoader(train_list, batch_size=20, shuffle=True)"
   ]
  },
  {
   "cell_type": "markdown",
   "id": "fc1ae3ee",
   "metadata": {},
   "source": [
    "### Simulated triangles"
   ]
  },
  {
   "cell_type": "code",
   "execution_count": null,
   "id": "342edbff",
   "metadata": {},
   "outputs": [],
   "source": [
    "data_ = pd.read_csv('/home/dim26fa/data/suresim_simulations/triangles/triangles_2.csv')\n",
    "tens = torch.tensor(np.array(data_), dtype=torch.float)\n",
    "transformer = KNeighborsTransformer(n_neighbors=17, algorithm='brute')\n",
    "transformer.fit_transform(data_)\n",
    "graph = transformer.kneighbors_graph()\n",
    "graph_array = graph.toarray()\n",
    "nx_graph = nx.from_numpy_array(graph_array)"
   ]
  },
  {
   "cell_type": "code",
   "execution_count": null,
   "id": "01f30bdc",
   "metadata": {},
   "outputs": [],
   "source": [
    "data_"
   ]
  },
  {
   "cell_type": "code",
   "execution_count": null,
   "id": "4a3e4bfe",
   "metadata": {},
   "outputs": [],
   "source": [
    "node_feat = np.array(data_)"
   ]
  },
  {
   "cell_type": "code",
   "execution_count": null,
   "id": "e80ca6fa",
   "metadata": {},
   "outputs": [],
   "source": [
    "edges = np.transpose(nx_graph.edges)"
   ]
  },
  {
   "cell_type": "code",
   "execution_count": null,
   "id": "1d80c6a7",
   "metadata": {},
   "outputs": [],
   "source": [
    "labels = []\n",
    "nx.set_node_attributes(nx_graph, labels, \"labels\")\n",
    "labels.append(\"foo\")"
   ]
  },
  {
   "cell_type": "markdown",
   "id": "f241b4d1",
   "metadata": {},
   "source": [
    "### Try Delaunay triangulation"
   ]
  },
  {
   "cell_type": "code",
   "execution_count": null,
   "id": "0d535164",
   "metadata": {},
   "outputs": [],
   "source": [
    "from scipy.spatial import Delaunay"
   ]
  },
  {
   "cell_type": "code",
   "execution_count": null,
   "id": "1cdc26e4",
   "metadata": {},
   "outputs": [],
   "source": [
    "points = np.array(data_)"
   ]
  },
  {
   "cell_type": "code",
   "execution_count": null,
   "id": "ca5a3b3e",
   "metadata": {},
   "outputs": [],
   "source": [
    "tri = Delaunay(points)"
   ]
  },
  {
   "cell_type": "code",
   "execution_count": null,
   "id": "3c354de8",
   "metadata": {},
   "outputs": [],
   "source": [
    "tri.neighbors[0]"
   ]
  },
  {
   "cell_type": "code",
   "execution_count": null,
   "id": "1f1aaae2",
   "metadata": {},
   "outputs": [],
   "source": [
    "# get node feature matrix\n",
    "nx.attr_matrix(nx_graph, node_attr='labels')"
   ]
  },
  {
   "cell_type": "code",
   "execution_count": null,
   "id": "4d62258e",
   "metadata": {},
   "outputs": [],
   "source": [
    "data = Data(x=torch.tensor(node_feat),\n",
    "           #pos=torch.tensor(np.array(data_)),\n",
    "           edge_index = torch.tensor(np.transpose(list(nx_graph.edges)))\n",
    "           )"
   ]
  },
  {
   "cell_type": "code",
   "execution_count": null,
   "id": "9eab9aca",
   "metadata": {},
   "outputs": [],
   "source": [
    "# deprecated function - gotta figure out RandomLinkSplit\n",
    "data_split = train_test_split_edges(data)"
   ]
  },
  {
   "cell_type": "code",
   "execution_count": null,
   "id": "ead7638e-0688-4a03-8c12-8ac0e55706ca",
   "metadata": {},
   "outputs": [],
   "source": [
    "data_split"
   ]
  },
  {
   "cell_type": "code",
   "execution_count": null,
   "id": "1f039441-3267-4e0a-b150-011ca16215a2",
   "metadata": {},
   "outputs": [],
   "source": [
    "ls_train, ls_val, ls_test = tfs(data)"
   ]
  },
  {
   "cell_type": "code",
   "execution_count": null,
   "id": "aec8e143-0bd7-468f-bfd9-db3e1031853e",
   "metadata": {},
   "outputs": [],
   "source": [
    "ls_train"
   ]
  },
  {
   "cell_type": "code",
   "execution_count": null,
   "id": "0d9b866e-2eeb-4c45-ae08-c467defc61c3",
   "metadata": {},
   "outputs": [],
   "source": [
    "ls_train.edge_label_index"
   ]
  },
  {
   "cell_type": "code",
   "execution_count": null,
   "id": "5144f565",
   "metadata": {},
   "outputs": [],
   "source": [
    "data_split"
   ]
  },
  {
   "cell_type": "code",
   "execution_count": null,
   "id": "d10b9ede",
   "metadata": {},
   "outputs": [],
   "source": [
    "# quickly see graph \n",
    "import matplotlib.pyplot as plt\n",
    "def show_graph_with_labels(adjacency_matrix, tresh):\n",
    "    rows, cols = np.where(adjacency_matrix >= tresh)\n",
    "    edges = zip(rows.tolist(), cols.tolist())\n",
    "    gr = nx.Graph()\n",
    "    gr.add_edges_from(edges)\n",
    "    nx.draw(gr, node_size=1, with_labels=False)\n",
    "    plt.show()\n",
    "    return gr"
   ]
  },
  {
   "cell_type": "code",
   "execution_count": null,
   "id": "1d2242ba",
   "metadata": {},
   "outputs": [],
   "source": [
    "gr_orig = show_graph_with_labels(graph_array, 0.8)"
   ]
  },
  {
   "cell_type": "code",
   "execution_count": null,
   "id": "48c588a5",
   "metadata": {},
   "outputs": [],
   "source": [
    "net = Network(notebook = True)\n",
    "net.show_buttons(filter_=['physics'])\n",
    "net.from_nx(gr_orig)\n",
    "net.show('graph.html')"
   ]
  },
  {
   "cell_type": "code",
   "execution_count": null,
   "id": "8f69c2ee",
   "metadata": {},
   "outputs": [],
   "source": [
    "def Extract(lst, index):\n",
    "    return [item[index] for item in lst]"
   ]
  },
  {
   "cell_type": "markdown",
   "id": "882b3ee2",
   "metadata": {},
   "source": [
    "### Define encoder layer"
   ]
  },
  {
   "cell_type": "code",
   "execution_count": null,
   "id": "9b215035",
   "metadata": {},
   "outputs": [],
   "source": [
    "class GCNEncoder(torch.nn.Module):\n",
    "    def __init__(self, in_channels, out_channels):\n",
    "        super(GCNEncoder, self).__init__()\n",
    "        self.conv1 = GCNConv(in_channels, 2 * out_channels, cached=True) # cached only for transductive learning\n",
    "        self.conv2 = GCNConv(2 * out_channels, out_channels, cached=True) # cached only for transductive learning\n",
    "\n",
    "    def forward(self, x, edge_index):\n",
    "        x = self.conv1(x, edge_index).relu()\n",
    "        return self.conv2(x, edge_index)"
   ]
  },
  {
   "cell_type": "markdown",
   "id": "33a782a2",
   "metadata": {},
   "source": [
    "### Define autoencoder"
   ]
  },
  {
   "cell_type": "code",
   "execution_count": null,
   "id": "633830b1",
   "metadata": {},
   "outputs": [],
   "source": [
    "from torch_geometric.nn import GAE"
   ]
  },
  {
   "cell_type": "code",
   "execution_count": null,
   "id": "78d675df",
   "metadata": {},
   "outputs": [],
   "source": [
    "# parameters\n",
    "out_channels = 2\n",
    "num_features = 3\n",
    "epochs = 200\n",
    "\n",
    "\n",
    "# model\n",
    "model = GAE(GCNEncoder(num_features, out_channels))\n",
    "\n",
    "# move to GPU (if available)\n",
    "device = torch.device('cuda' if torch.cuda.is_available() else 'cpu')\n",
    "model = model.float()\n",
    "model = model.to(device)\n",
    "x = data_split.x.to(device)\n",
    "x = x.float()\n",
    "train_pos_edge_index = data_split.train_pos_edge_index.to(device)\n",
    "# inizialize the optimizer\n",
    "optimizer = torch.optim.Adam(model.parameters(), lr=0.01)\n"
   ]
  },
  {
   "cell_type": "code",
   "execution_count": null,
   "id": "3ecf0175",
   "metadata": {},
   "outputs": [],
   "source": [
    "def train():\n",
    "    model.train()\n",
    "    optimizer.zero_grad()\n",
    "    z = model.encode(x, train_pos_edge_index)\n",
    "    loss = model.recon_loss(z, train_pos_edge_index)\n",
    "    #if args.variational:\n",
    "    #   loss = loss + (1 / data.num_nodes) * model.kl_loss()\n",
    "    loss.backward()\n",
    "    optimizer.step()\n",
    "    return float(loss)\n",
    "\n",
    "\n",
    "def test(pos_edge_index, neg_edge_index):\n",
    "    model.eval()\n",
    "    with torch.no_grad():\n",
    "        z = model.encode(x, train_pos_edge_index)\n",
    "    return model.test(z, pos_edge_index, neg_edge_index)"
   ]
  },
  {
   "cell_type": "code",
   "execution_count": null,
   "id": "5756b14d",
   "metadata": {},
   "outputs": [],
   "source": [
    "for epoch in range(1, epochs + 1):\n",
    "    loss = train()\n",
    "\n",
    "    auc, ap = test(data_split.test_pos_edge_index, data_split.test_neg_edge_index)\n",
    "    print('Epoch: {:03d}, AUC: {:.4f}, AP: {:.4f}'.format(epoch, auc, ap))"
   ]
  },
  {
   "cell_type": "code",
   "execution_count": null,
   "id": "be33e3b1",
   "metadata": {},
   "outputs": [],
   "source": [
    "Z = model.encode(x, train_pos_edge_index)"
   ]
  },
  {
   "cell_type": "code",
   "execution_count": null,
   "id": "9889f376",
   "metadata": {},
   "outputs": [],
   "source": [
    "decoded = torch.sigmoid(torch.matmul(Z,torch.transpose(Z,0,1)))"
   ]
  },
  {
   "cell_type": "code",
   "execution_count": null,
   "id": "b41e2e47",
   "metadata": {},
   "outputs": [],
   "source": [
    "decoded_array = np.array(decoded.detach().cpu())"
   ]
  },
  {
   "cell_type": "code",
   "execution_count": null,
   "id": "c6263e96",
   "metadata": {},
   "outputs": [],
   "source": [
    "decoded_array"
   ]
  },
  {
   "cell_type": "code",
   "execution_count": null,
   "id": "bae87391",
   "metadata": {},
   "outputs": [],
   "source": [
    "graph_array"
   ]
  },
  {
   "cell_type": "code",
   "execution_count": null,
   "id": "5fcab444",
   "metadata": {},
   "outputs": [],
   "source": [
    "gr_decoded = show_graph_with_labels(decoded_array, 0.8)"
   ]
  },
  {
   "cell_type": "code",
   "execution_count": null,
   "id": "0b5ccfd0",
   "metadata": {},
   "outputs": [],
   "source": [
    "net = Network(notebook = True)\n",
    "net.show_buttons(filter_=['physics'])\n",
    "net.from_nx(gr_decoded)\n",
    "net.show('graph.html')"
   ]
  }
 ],
 "metadata": {
  "kernelspec": {
   "display_name": "gpu2",
   "language": "python",
   "name": "gpu2"
  },
  "language_info": {
   "codemirror_mode": {
    "name": "ipython",
    "version": 3
   },
   "file_extension": ".py",
   "mimetype": "text/x-python",
   "name": "python",
   "nbconvert_exporter": "python",
   "pygments_lexer": "ipython3",
   "version": "3.9.7"
  }
 },
 "nbformat": 4,
 "nbformat_minor": 5
}
