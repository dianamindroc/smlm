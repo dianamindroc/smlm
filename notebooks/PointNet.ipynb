{
 "cells": [
  {
   "cell_type": "code",
   "execution_count": null,
   "id": "3d27846d",
   "metadata": {},
   "outputs": [],
   "source": [
    "import torch\n",
    "import os \n",
    "import pandas as pd \n",
    "import numpy as np\n",
    "import matplotlib.pyplot as plt "
   ]
  },
  {
   "cell_type": "code",
   "execution_count": null,
   "id": "075e5240",
   "metadata": {},
   "outputs": [],
   "source": [
    "def visualize_points(pos, edge_index=None, index=None):\n",
    "    fig = plt.figure(figsize=(4, 4))\n",
    "    if edge_index is not None:\n",
    "        for (src, dst) in edge_index.t().tolist():\n",
    "             src = pos[src].tolist()\n",
    "             dst = pos[dst].tolist()\n",
    "             plt.plot([src[0], dst[0]], [src[1], dst[1]], linewidth=1, color='black')\n",
    "    if index is None:\n",
    "        plt.scatter(pos[:, 0], pos[:, 1], s=50, zorder=1000)\n",
    "    else:\n",
    "       mask = torch.zeros(pos.size(0), dtype=torch.bool)\n",
    "       mask[index] = True\n",
    "       plt.scatter(pos[~mask, 0], pos[~mask, 1], s=50, color='lightgray', zorder=1000)\n",
    "       plt.scatter(pos[mask, 0], pos[mask, 1], s=50, zorder=1000)\n",
    "    plt.axis('off')\n",
    "    plt.show()"
   ]
  },
  {
   "cell_type": "code",
   "execution_count": null,
   "id": "69c95112",
   "metadata": {},
   "outputs": [],
   "source": [
    "os.environ['TORCH'] = torch.__version__\n",
    "print(torch.__version__)"
   ]
  },
  {
   "cell_type": "code",
   "execution_count": null,
   "id": "3b89b5a0",
   "metadata": {},
   "outputs": [],
   "source": [
    "from torch_geometric.datasets import GeometricShapes\n",
    "from torch_geometric.transforms import SamplePoints"
   ]
  },
  {
   "cell_type": "code",
   "execution_count": null,
   "id": "1596c487",
   "metadata": {},
   "outputs": [],
   "source": [
    "dataset = GeometricShapes(root='GeometricShapes')"
   ]
  },
  {
   "cell_type": "code",
   "execution_count": null,
   "id": "ca4f1ba0",
   "metadata": {},
   "outputs": [],
   "source": [
    "dataset.num_classes"
   ]
  },
  {
   "cell_type": "code",
   "execution_count": null,
   "id": "87a4138e",
   "metadata": {},
   "outputs": [],
   "source": [
    "dataset.transform = SamplePoints(num=128)"
   ]
  },
  {
   "cell_type": "code",
   "execution_count": null,
   "id": "6cd93c8f",
   "metadata": {},
   "outputs": [],
   "source": [
    "data = dataset[0]"
   ]
  },
  {
   "cell_type": "code",
   "execution_count": null,
   "id": "64e68df3",
   "metadata": {},
   "outputs": [],
   "source": [
    "print(data.edge_index)"
   ]
  },
  {
   "cell_type": "code",
   "execution_count": null,
   "id": "76cc8934",
   "metadata": {},
   "outputs": [],
   "source": [
    "print(data)"
   ]
  },
  {
   "cell_type": "code",
   "execution_count": null,
   "id": "6c9a12c1",
   "metadata": {},
   "outputs": [],
   "source": [
    "from helpers.visualization import Visualization"
   ]
  },
  {
   "cell_type": "code",
   "execution_count": null,
   "id": "bf801fe9",
   "metadata": {},
   "outputs": [],
   "source": [
    "type(data)"
   ]
  },
  {
   "cell_type": "code",
   "execution_count": null,
   "id": "eb9efba8",
   "metadata": {},
   "outputs": [],
   "source": [
    "df = pd.DataFrame(data.pos, columns=['x','y','z'])"
   ]
  },
  {
   "cell_type": "code",
   "execution_count": null,
   "id": "b2f9b343",
   "metadata": {},
   "outputs": [],
   "source": [
    "viz = Visualization(df).get_3d_scatter().show()"
   ]
  },
  {
   "cell_type": "code",
   "execution_count": null,
   "id": "5d32bd54",
   "metadata": {},
   "outputs": [],
   "source": [
    "from torch_geometric.transforms import SamplePoints"
   ]
  },
  {
   "cell_type": "code",
   "execution_count": null,
   "id": "3a39f324",
   "metadata": {},
   "outputs": [],
   "source": [
    "from torch_cluster import knn_graph"
   ]
  },
  {
   "cell_type": "code",
   "execution_count": null,
   "id": "567188a4",
   "metadata": {},
   "outputs": [],
   "source": [
    "data.edge_index = knn_graph(data.pos, k = 6)"
   ]
  },
  {
   "cell_type": "code",
   "execution_count": null,
   "id": "ed36a753",
   "metadata": {},
   "outputs": [],
   "source": [
    "visualize_points(data.pos, edge_index=data.edge_index)"
   ]
  },
  {
   "cell_type": "code",
   "execution_count": null,
   "id": "4bd2a6aa",
   "metadata": {},
   "outputs": [],
   "source": [
    "from helpers.readers import Reader\n",
    "import os\n",
    "import glob\n",
    "reader = Reader('/home/dim26fa/data/imod_models/')\n",
    "reader.get_folders('0')\n"
   ]
  },
  {
   "cell_type": "code",
   "execution_count": null,
   "id": "9b4b0d79",
   "metadata": {},
   "outputs": [],
   "source": [
    "reader.get_files_from_folder(0)\n",
    "reader.folder"
   ]
  },
  {
   "cell_type": "code",
   "execution_count": null,
   "id": "cccc8646",
   "metadata": {},
   "outputs": [],
   "source": [
    "files = np.empty(10, dtype='object')"
   ]
  },
  {
   "cell_type": "code",
   "execution_count": null,
   "id": "36cfb17b",
   "metadata": {},
   "outputs": [],
   "source": [
    "for file in glob.glob('/home/dim26fa/data/imod_models/model_0/**/*Localizations.txt'):\n",
    "    #data = pd.read_csv()\n",
    "    files.append(pd.read_csv(file))"
   ]
  },
  {
   "cell_type": "code",
   "execution_count": null,
   "id": "23b22a28",
   "metadata": {},
   "outputs": [],
   "source": [
    "path = '/home/dim26fa/data/imod_models/model_1'\n",
    "for folder in os.listdir(path):\n",
    "    fpath = os.path.join(path,folder)\n",
    "    if os.path.isdir(fpath):\n",
    "        reader = Reader(fpath)\n",
    "        reader.get_files_from_folder(path = fpath)\n",
    "        reader.filter('Localizations.txt')\n",
    "        reader.set_file(0)\n",
    "        reader.read_txt(4)\n",
    "        f = reader.extract_xyz(column_names=[0,1,2]).to_numpy()\n",
    "        tensor = torch.tensor(f)      \n",
    "        "
   ]
  },
  {
   "cell_type": "code",
   "execution_count": null,
   "id": "791b1f03",
   "metadata": {},
   "outputs": [],
   "source": [
    "for folder in os.listdir('/home/dim26fa/data/imod_models/model_1'):\n",
    "    if os.path.isdir(folder):\n",
    "        print('0')"
   ]
  },
  {
   "cell_type": "code",
   "execution_count": null,
   "id": "e009e748",
   "metadata": {},
   "outputs": [],
   "source": [
    "data = pd.read_csv('/home/dim26fa/data/imod_models/model_1/sample_0/adfl-r-cutLocalizations.txt', skiprows=[0])\n",
    "data = data[data.columns[0]].str.split(' ', 4, expand=True)\n",
    "data"
   ]
  },
  {
   "cell_type": "code",
   "execution_count": null,
   "id": "f057eb7c",
   "metadata": {},
   "outputs": [],
   "source": []
  },
  {
   "cell_type": "markdown",
   "id": "4e7cf3cb",
   "metadata": {},
   "source": [
    "### PointNet "
   ]
  },
  {
   "cell_type": "code",
   "execution_count": null,
   "id": "9ca87a1c",
   "metadata": {},
   "outputs": [],
   "source": [
    "from torch.nn import Sequential, Linear, ReLU\n",
    "from torch_geometric.nn import MessagePassing"
   ]
  },
  {
   "cell_type": "code",
   "execution_count": null,
   "id": "acf65b80",
   "metadata": {},
   "outputs": [],
   "source": [
    "class PointNetLayer(MessagePassing):\n",
    "    def __init__(self, in_channels, out_channels):\n",
    "        super().__init__(aggr='max')\n",
    "        self.mlp = Sequential(Linear(in_channels + 3, out_channels), \n",
    "                              ReLU(),\n",
    "                              Linear(out_channels, out_channels))\n",
    "    \n",
    "    def forward(self, h, pos, edge_index):\n",
    "        return self.propagate(edge_index, h=h, pos=pos)\n",
    "    \n",
    "    def message(self, h_j, pos_j, pos_i):\n",
    "        inputt = pos_j - pos_i\n",
    "        \n",
    "        if h_j is not None:\n",
    "            \n",
    "            inputt = torch.cat([h_j, inputt], dim=-1)\n",
    "        \n",
    "        return self.mlp(inputt)\n",
    "            \n",
    "            \n",
    "            "
   ]
  },
  {
   "cell_type": "code",
   "execution_count": null,
   "id": "7515f8cb",
   "metadata": {},
   "outputs": [],
   "source": [
    "import torch.nn.functional as F\n",
    "from torch_cluster import knn_graph\n",
    "from torch_geometric.nn import global_max_pool\n",
    "\n",
    "class PointNet(torch.nn.Module):\n",
    "    def __init__(self):\n",
    "        super().__init__()\n",
    "        \n",
    "        torch.manual_seed(12345)\n",
    "        self.conv1 = PointNetLayer(3, 32)\n",
    "        self.conv2 = PointNetLayer(32, 32)\n",
    "        self.classifier = Linear(32, dataset.num_classes)\n",
    "        \n",
    "    def forward(self, pos, batch):\n",
    "        edge_index = knn_graph(pos, k=16, batch = batch, loop=True)\n",
    "        \n",
    "        h = self.conv1(h=pos, pos=pos, edge_index=edge_index)\n",
    "        h = h.relu()\n",
    "        h = self.conv2(h=h, pos=pos, edge_index=edge_index)\n",
    "        h = h.relu()\n",
    "        \n",
    "        h = global_max_pool(h, batch)\n",
    "        \n",
    "        return self.classifier(h)\n",
    "\n",
    "model = PointNet()\n",
    "print(model)"
   ]
  },
  {
   "cell_type": "code",
   "execution_count": null,
   "id": "2446c1ff",
   "metadata": {},
   "outputs": [],
   "source": [
    "from IPython.display import Javascript\n",
    "display(Javascript('''google.colab.output.setIframeHeight(0,true, {maxHeight: 300})'''))\n",
    "\n",
    "from torch_geometric.loader import DataLoader\n",
    "\n",
    "train_dataset = GeometricShapes(root='data/GeometricShapes', train = True, \n",
    "                               transform = SamplePoints(128))\n",
    "test_dataset = GeometricShapes(root='data/GeometricShapes', train = False, \n",
    "                               transform = SamplePoints(128))\n",
    "\n",
    "train_loader = DataLoader(train_dataset, batch_size=10, shuffle=True)\n",
    "test_loader = DataLoader(test_dataset, batch_size=10)\n",
    "\n",
    "model = PointNet()\n",
    "optimizer = torch.optim.Adam(model.parameters(), lr=0.01)\n",
    "criterion = torch.nn.CrossEntropyLoss()\n"
   ]
  },
  {
   "cell_type": "code",
   "execution_count": null,
   "id": "54f4e2d1",
   "metadata": {},
   "outputs": [],
   "source": [
    "??GeometricShapes"
   ]
  },
  {
   "cell_type": "code",
   "execution_count": null,
   "id": "99bdd8b9",
   "metadata": {},
   "outputs": [],
   "source": [
    "class SMLMShapes():\n",
    "    r\"\"\"Synthetic dataset of various geometric shapes like cubes, spheres or\n",
    "    pyramids.\n",
    "\n",
    "    .. note::\n",
    "\n",
    "        Data objects hold mesh faces instead of edge indices.\n",
    "        To convert the mesh to a graph, use the\n",
    "        :obj:`torch_geometric.transforms.FaceToEdge` as :obj:`pre_transform`.\n",
    "        To convert the mesh to a point cloud, use the\n",
    "        :obj:`torch_geometric.transforms.SamplePoints` as :obj:`transform` to\n",
    "        sample a fixed number of points on the mesh faces according to their\n",
    "        face area.\n",
    "\n",
    "    Args:\n",
    "        root (string): Root directory where the dataset should be saved.\n",
    "        train (bool, optional): If :obj:`True`, loads the training dataset,\n",
    "            otherwise the test dataset. (default: :obj:`True`)\n",
    "        transform (callable, optional): A function/transform that takes in an\n",
    "            :obj:`torch_geometric.data.Data` object and returns a transformed\n",
    "            version. The data object will be transformed before every access.\n",
    "            (default: :obj:`None`)\n",
    "        pre_transform (callable, optional): A function/transform that takes in\n",
    "            an :obj:`torch_geometric.data.Data` object and returns a\n",
    "            transformed version. The data object will be transformed before\n",
    "            being saved to disk. (default: :obj:`None`)\n",
    "        pre_filter (callable, optional): A function that takes in an\n",
    "            :obj:`torch_geometric.data.Data` object and returns a boolean\n",
    "            value, indicating whether the data object should be included in the\n",
    "            final dataset. (default: :obj:`None`)\n",
    "    \"\"\"\n",
    "\n",
    "    def __init__(self, root: str, path: str,\n",
    "                 train: bool = True,\n",
    "                 transform: Optional = None,\n",
    "                 pre_transform: Optional = None,\n",
    "                 pre_filter: Optional = None):\n",
    "        super().__init__(root, transform, pre_transform, pre_filter)\n",
    "        path = self.path[0] if train else self.path[1]\n",
    "        self.data = torch.load(path)\n",
    "\n",
    "    def process(self):\n",
    "        torch.save(self.process_set('train'), self.path[0])\n",
    "        torch.save(self.process_set('test'), self.path[1])\n",
    "\n",
    "    def process_set(self, dataset: str):\n",
    "        categories = glob.glob(osp.join(self.raw_dir, '*', ''))\n",
    "        categories = sorted([x.split(os.sep)[-2] for x in categories])\n",
    "\n",
    "        data_list = []\n",
    "        for target, category in enumerate(categories):\n",
    "            folder = os.path.join(self.raw_dir, category, dataset)\n",
    "            paths = glob.glob(f'{folder}/*.txt')\n",
    "            for path in paths:\n",
    "                data = read_off(path)\n",
    "                data.pos = data.pos - data.pos.mean(dim=0, keepdim=True)\n",
    "                data.y = torch.tensor([target])\n",
    "                data_list.append(data)\n",
    "\n",
    "        return self.collate(data_list)"
   ]
  },
  {
   "cell_type": "code",
   "execution_count": null,
   "id": "fed3e559",
   "metadata": {},
   "outputs": [],
   "source": [
    "import glob\n",
    "categories = glob.glob('/home/dim26fa/data/imod_models/*')\n",
    "categories = sorted([x.split(os.sep)[-1] for x in categories])\n",
    "categories\n",
    "for target, category in enumerate(categories):\n",
    "    print(target, category)"
   ]
  },
  {
   "cell_type": "code",
   "execution_count": null,
   "id": "2e6ba722",
   "metadata": {},
   "outputs": [],
   "source": [
    "categories[1].split(os.sep)[-1]"
   ]
  },
  {
   "cell_type": "code",
   "execution_count": null,
   "id": "f498e161",
   "metadata": {},
   "outputs": [],
   "source": [
    "\n",
    "def train(model, optimizer, loader):\n",
    "    model.train()\n",
    "    \n",
    "    total_loss = 0\n",
    "    for data in loader: \n",
    "        optimizer.zero_grad()\n",
    "        logits = model(data.pos, data.batch)\n",
    "        loss = criterion(logits, data.y)\n",
    "        loss.backward()\n",
    "        optimizer.step()\n",
    "        total_loss += loss.item() * data.num_graphs \n",
    "    \n",
    "    return total_loss / len(train_loader.dataset)\n",
    "\n",
    "@torch.no_grad()\n",
    "def test(model, loader):\n",
    "    model.eval()\n",
    "    \n",
    "    total_correct = 0 \n",
    "    for data in loader:\n",
    "        logits = model(data.pos, data.batch)\n",
    "        pred = logits.argmax(dim=-1)\n",
    "        total_correct += int((pred == data.y).sum())\n",
    "        \n",
    "    return total_correct / len(loader.dataset)\n",
    "accuracies = []\n",
    "for epoch in range(1,101):\n",
    "    loss = train(model, optimizer, train_loader)\n",
    "    test_acc = test(model, test_loader)\n",
    "    print(f'Epoch: {epoch:02d}, Loss: {loss:.4f}, Test accuracy: {test_acc: .4f}')\n",
    "    accuracies.append(test_acc)"
   ]
  },
  {
   "cell_type": "code",
   "execution_count": null,
   "id": "f7bece74",
   "metadata": {},
   "outputs": [],
   "source": [
    "x = range(1,101)\n",
    "plt.plot(x, accuracies)"
   ]
  }
 ],
 "metadata": {
  "kernelspec": {
   "display_name": "gpu2",
   "language": "python",
   "name": "gpu2"
  },
  "language_info": {
   "codemirror_mode": {
    "name": "ipython",
    "version": 3
   },
   "file_extension": ".py",
   "mimetype": "text/x-python",
   "name": "python",
   "nbconvert_exporter": "python",
   "pygments_lexer": "ipython3",
   "version": "3.9.7"
  }
 },
 "nbformat": 4,
 "nbformat_minor": 5
}
