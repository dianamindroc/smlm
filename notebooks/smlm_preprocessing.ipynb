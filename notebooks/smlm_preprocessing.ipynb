{
 "cells": [
  {
   "cell_type": "markdown",
   "id": "11a7ec2e",
   "metadata": {},
   "source": [
    "### Read data "
   ]
  },
  {
   "cell_type": "code",
   "execution_count": null,
   "id": "cf40d1ee",
   "metadata": {},
   "outputs": [],
   "source": [
    "# import necessary functions\n",
    "from helpers.readers import Reader\n",
    "from helpers.visualization import Visualization\n",
    "from sklearn.cluster import DBSCAN \n",
    "import plotly.express as px\n",
    "import open3d as o3d \n",
    "import numpy as np \n",
    "import pandas as pd \n",
    "\n",
    "# read data from \n",
    "reader = Reader('/home/dim26fa/data/suresim_simulations/')\n",
    "reader.get_folders('tri')"
   ]
  },
  {
   "cell_type": "code",
   "execution_count": null,
   "id": "fdfa9153",
   "metadata": {},
   "outputs": [],
   "source": [
    "reader.get_files_from_folder(-1)\n",
    "reader.filter('.txt')\n",
    "reader.set_file(reader.files[1])\n",
    "reader.folder"
   ]
  },
  {
   "cell_type": "code",
   "execution_count": null,
   "id": "a0a9d483",
   "metadata": {},
   "outputs": [],
   "source": [
    "data = reader.read_txt(columns = 4)\n",
    "data_xyz = reader.extract_xyz(column_names=[0,1,2])"
   ]
  },
  {
   "cell_type": "code",
   "execution_count": null,
   "id": "7e644eb9",
   "metadata": {},
   "outputs": [],
   "source": [
    "len(data_xyz)"
   ]
  },
  {
   "cell_type": "code",
   "execution_count": null,
   "id": "f04079a4",
   "metadata": {},
   "outputs": [],
   "source": [
    "viz = Visualization(data_xyz)\n",
    "viz.get_3d_scatter()"
   ]
  },
  {
   "cell_type": "code",
   "execution_count": null,
   "id": "7fff5e31",
   "metadata": {},
   "outputs": [],
   "source": [
    "o3d_pc = o3d.io.read_point_cloud(reader.folder + '/' + reader.file, format = 'xyz')\n",
    "downpc = o3d_pc.voxel_down_sample(voxel_size = 100)\n",
    "type(downpc)\n",
    "downpc_array = pd.DataFrame(np.asarray(downpc.points), columns = ['x','y','z'])"
   ]
  },
  {
   "cell_type": "code",
   "execution_count": null,
   "id": "9b3aece8",
   "metadata": {},
   "outputs": [],
   "source": [
    "len(downpc_array)"
   ]
  },
  {
   "cell_type": "code",
   "execution_count": null,
   "id": "1cb6a89e",
   "metadata": {},
   "outputs": [],
   "source": [
    "viz = Visualization(downpc_array)\n",
    "viz.get_3d_scatter()"
   ]
  },
  {
   "cell_type": "markdown",
   "id": "0eb34eda",
   "metadata": {},
   "source": [
    "### Find optimal eps for DBSCAN"
   ]
  },
  {
   "cell_type": "code",
   "execution_count": null,
   "id": "4615bcf7",
   "metadata": {},
   "outputs": [],
   "source": [
    "from sklearn.neighbors import NearestNeighbors\n",
    "import numpy as np\n",
    "import matplotlib.pyplot as plt \n",
    "\n",
    "nbrs = NearestNeighbors(n_neighbors=20).fit(data_xyz)\n",
    "distances, indices = nbrs.kneighbors(data_xyz)\n",
    "distances = distances[:,2]\n",
    "distances = np.sort(distances, axis=0)\n",
    "plt.plot(distances)"
   ]
  },
  {
   "cell_type": "markdown",
   "id": "d132d251",
   "metadata": {},
   "source": [
    "### Denoise point cloud"
   ]
  },
  {
   "cell_type": "code",
   "execution_count": null,
   "id": "fc904c3b",
   "metadata": {},
   "outputs": [],
   "source": [
    "pc = DBSCAN(eps = 50, min_samples = 6).fit(data_xyz)\n",
    "print (pc)\n",
    "type(pc)"
   ]
  },
  {
   "cell_type": "code",
   "execution_count": null,
   "id": "ca3a1bc0",
   "metadata": {},
   "outputs": [],
   "source": [
    "downpc_array[pc.labels_ == -1]"
   ]
  },
  {
   "cell_type": "code",
   "execution_count": null,
   "id": "3bef6711",
   "metadata": {},
   "outputs": [],
   "source": [
    "fig = px.scatter_3d(x = data_xyz['x'], y = data_xyz['y'], z = data_xyz['z'], color = pc.labels_)\n",
    "fig.update_traces(marker=dict(size=2))"
   ]
  },
  {
   "cell_type": "code",
   "execution_count": null,
   "id": "c7416546",
   "metadata": {},
   "outputs": [],
   "source": [
    "data_without_outliers = data_xyz.drop(data_xyz[pc.labels_==-1].index)"
   ]
  },
  {
   "cell_type": "code",
   "execution_count": null,
   "id": "b7e7f53b",
   "metadata": {},
   "outputs": [],
   "source": [
    "fig = px.scatter_3d(x = data_without_outliers['x'], y = data_without_outliers['y'], z = data_without_outliers\n",
    "              ['z'], color = pc.labels_[pc.labels_ != -1])\n",
    "fig.update_traces(marker=dict(size=2))"
   ]
  },
  {
   "cell_type": "markdown",
   "id": "ce816586",
   "metadata": {},
   "source": [
    "### Construct graphs "
   ]
  },
  {
   "cell_type": "code",
   "execution_count": null,
   "id": "dd8ced05",
   "metadata": {},
   "outputs": [],
   "source": [
    "from sklearn.neighbors import KNeighborsTransformer\n",
    "import networkx as nx\n",
    "from pyvis.network import Network\n",
    "import matplotlib.pyplot as plt"
   ]
  },
  {
   "cell_type": "code",
   "execution_count": null,
   "id": "351cb815",
   "metadata": {},
   "outputs": [],
   "source": [
    "transformer = KNeighborsTransformer(n_neighbors = 6, algorithm='ball_tree')\n",
    "transformer.fit_transform(data_without_outliers)"
   ]
  },
  {
   "cell_type": "code",
   "execution_count": null,
   "id": "3ee50b56",
   "metadata": {},
   "outputs": [],
   "source": [
    "graph = transformer.kneighbors_graph()\n",
    "nx_graph = nx.from_numpy_array(graph.toarray())\n",
    "len(nx_graph.edges)"
   ]
  },
  {
   "cell_type": "code",
   "execution_count": null,
   "id": "23c53177",
   "metadata": {},
   "outputs": [],
   "source": [
    "plt.imshow(graph.toarray(), cmap='jet')"
   ]
  },
  {
   "cell_type": "code",
   "execution_count": null,
   "id": "4413b582",
   "metadata": {},
   "outputs": [],
   "source": [
    "net = Network(notebook = True)\n",
    "net.show_buttons(filter_=['physics'])\n",
    "net.from_nx(nx_graph)\n",
    "net.show('graph.html')"
   ]
  },
  {
   "cell_type": "code",
   "execution_count": null,
   "id": "0f6f0b61",
   "metadata": {},
   "outputs": [],
   "source": [
    "A=list(nx_graph.subgraph(c).copy() for c in nx.connected_components(nx_graph))"
   ]
  },
  {
   "cell_type": "code",
   "execution_count": null,
   "id": "ef0b61cd",
   "metadata": {},
   "outputs": [],
   "source": [
    "net = Network(notebook = True)\n",
    "net.show_buttons(filter_=['physics'])\n",
    "net.from_nx(A[1])\n",
    "net.show('graph.html')"
   ]
  },
  {
   "cell_type": "code",
   "execution_count": null,
   "id": "c457b3ea",
   "metadata": {
    "pycharm": {
     "name": "#%%\n"
    }
   },
   "outputs": [],
   "source": []
  }
 ],
 "metadata": {
  "kernelspec": {
   "display_name": "gpu2",
   "language": "python",
   "name": "gpu2"
  },
  "language_info": {
   "codemirror_mode": {
    "name": "ipython",
    "version": 3
   },
   "file_extension": ".py",
   "mimetype": "text/x-python",
   "name": "python",
   "nbconvert_exporter": "python",
   "pygments_lexer": "ipython3",
   "version": "3.9.7"
  }
 },
 "nbformat": 4,
 "nbformat_minor": 5
}
