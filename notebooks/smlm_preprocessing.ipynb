{
 "cells": [
  {
   "cell_type": "markdown",
   "id": "11a7ec2e",
   "metadata": {},
   "source": []
  },
  {
   "cell_type": "markdown",
   "id": "4f16f0b8",
   "metadata": {},
   "source": [
    "### Imports"
   ]
  },
  {
   "cell_type": "code",
   "execution_count": null,
   "id": "cf40d1ee",
   "metadata": {
    "pycharm": {
     "is_executing": true
    }
   },
   "outputs": [],
   "source": [
    "# import necessary functions and libraries\n",
    "from helpers.readers import Reader\n",
    "from helpers.visualization import Visualization3D\n",
    "from sklearn.cluster import DBSCAN \n",
    "import open3d as o3d\n",
    "import numpy as np \n",
    "import pandas as pd"
   ]
  },
  {
   "cell_type": "markdown",
   "id": "961fb336",
   "metadata": {},
   "source": [
    "### Read desired file"
   ]
  },
  {
   "cell_type": "code",
   "execution_count": null,
   "id": "18096272",
   "metadata": {
    "pycharm": {
     "is_executing": true,
     "name": "#%%\n"
    }
   },
   "outputs": [],
   "source": [
    "# read data from\n",
    "reader = Reader('/home/dim26fa/data/imod_models/mitochondria/train/')\n",
    "reader.get_folders()"
   ]
  },
  {
   "cell_type": "code",
   "execution_count": null,
   "id": "7ae7fd18",
   "metadata": {},
   "outputs": [],
   "source": [
    "reader.set_folder(2)"
   ]
  },
  {
   "cell_type": "code",
   "execution_count": null,
   "id": "0d433d06",
   "metadata": {},
   "outputs": [],
   "source": [
    "reader.get_files_from_folder()"
   ]
  },
  {
   "cell_type": "code",
   "execution_count": null,
   "id": "6f861a10",
   "metadata": {},
   "outputs": [],
   "source": [
    "reader.set_file(0)"
   ]
  },
  {
   "cell_type": "code",
   "execution_count": null,
   "id": "b2924ffd",
   "metadata": {},
   "outputs": [],
   "source": [
    "reader.read_txt(columns=4)"
   ]
  },
  {
   "cell_type": "code",
   "execution_count": null,
   "id": "bc4806fe",
   "metadata": {},
   "outputs": [],
   "source": [
    "reader.extract_xyz(column_names=[0,1,2])"
   ]
  },
  {
   "cell_type": "code",
   "execution_count": null,
   "id": "fdfa9153",
   "metadata": {},
   "outputs": [],
   "source": [
    "#reader.file = '/home/dim26fa/data/ries_lab_data/201'\n",
    "reader.data = pd.read_csv('/home/dim26fa/data/imod_models/mitochondria/train/sample_0/mitochondriaLocalizations.txt')\n",
    "data_xyz = reader.extract_xyz(column_names=['Pos_x','Pos_y','Pos_z'])"
   ]
  },
  {
   "cell_type": "code",
   "execution_count": null,
   "id": "f04079a4",
   "metadata": {},
   "outputs": [],
   "source": [
    "viz = Visualization3D(reader.df_xyz).get_3d_scatter(color='blue').show()"
   ]
  },
  {
   "cell_type": "code",
   "execution_count": null,
   "id": "b4b8ceed",
   "metadata": {},
   "outputs": [],
   "source": [
    "reader.file.split(sep='.')"
   ]
  },
  {
   "cell_type": "code",
   "execution_count": null,
   "id": "c952dd36",
   "metadata": {},
   "outputs": [],
   "source": [
    "xyz = data_xyz.to_numpy()"
   ]
  },
  {
   "cell_type": "markdown",
   "id": "6b3317df",
   "metadata": {},
   "source": [
    "### Point cloud downsampling"
   ]
  },
  {
   "cell_type": "code",
   "execution_count": null,
   "id": "2e2d4d29",
   "metadata": {},
   "outputs": [],
   "source": [
    "pcd = o3d.geometry.PointCloud()\n",
    "pcd.points = o3d.utility.Vector3dVector(xyz)"
   ]
  },
  {
   "cell_type": "code",
   "execution_count": null,
   "id": "ee0efda0",
   "metadata": {},
   "outputs": [],
   "source": [
    "pcd"
   ]
  },
  {
   "cell_type": "code",
   "execution_count": null,
   "id": "d3ab69fe",
   "metadata": {},
   "outputs": [],
   "source": [
    "labels = np.array(pcd.cluster_dbscan(eps=1, min_points=50))"
   ]
  },
  {
   "cell_type": "code",
   "execution_count": null,
   "id": "a94be7bd",
   "metadata": {},
   "outputs": [],
   "source": [
    "len(labels)"
   ]
  },
  {
   "cell_type": "code",
   "execution_count": null,
   "id": "f635ea51",
   "metadata": {},
   "outputs": [],
   "source": [
    "import matplotlib.pyplot as plt"
   ]
  },
  {
   "cell_type": "code",
   "execution_count": null,
   "id": "05a74e42",
   "metadata": {},
   "outputs": [],
   "source": [
    "max_label = labels.max()\n",
    "colors = plt.get_cmap(\"tab20\")(labels / (max_label \n",
    "if max_label > 0 else 1))"
   ]
  },
  {
   "cell_type": "code",
   "execution_count": null,
   "id": "d419efd4",
   "metadata": {},
   "outputs": [],
   "source": [
    "colors[labels < 0] = 0\n",
    "pcd.colors = o3d.utility.Vector3dVector(colors[:, :3])"
   ]
  },
  {
   "cell_type": "code",
   "execution_count": null,
   "id": "ea6bbca1",
   "metadata": {},
   "outputs": [],
   "source": [
    "pcd"
   ]
  },
  {
   "cell_type": "code",
   "execution_count": null,
   "id": "5e4ad5b9",
   "metadata": {},
   "outputs": [],
   "source": [
    "down_pcd = pcd.voxel_down_sample(voxel_size=100)\n",
    "downpc_array = pd.DataFrame(np.asarray(down_pcd.points), columns = ['x','y','z'])"
   ]
  },
  {
   "cell_type": "code",
   "execution_count": null,
   "id": "b21ef5c8",
   "metadata": {},
   "outputs": [],
   "source": [
    "o3d.visualization.draw_geometries([down_pcd])"
   ]
  },
  {
   "cell_type": "code",
   "execution_count": null,
   "id": "543481f0",
   "metadata": {},
   "outputs": [],
   "source": [
    "o3d_pc = o3d.io.read_point_cloud(reader.file, format = 'xyz')"
   ]
  },
  {
   "cell_type": "code",
   "execution_count": null,
   "id": "91e18f78",
   "metadata": {},
   "outputs": [],
   "source": [
    "downpc = pcd.uniform_down_sample(100)\n",
    "downpc_array = pd.DataFrame(np.asarray(downpc.points), columns = ['x','y','z'])"
   ]
  },
  {
   "cell_type": "code",
   "execution_count": null,
   "id": "99eed5a4",
   "metadata": {},
   "outputs": [],
   "source": [
    "downpc"
   ]
  },
  {
   "cell_type": "code",
   "execution_count": null,
   "id": "92113231",
   "metadata": {},
   "outputs": [],
   "source": [
    "reader.file"
   ]
  },
  {
   "cell_type": "code",
   "execution_count": null,
   "id": "24929773",
   "metadata": {
    "pycharm": {
     "name": "#%%\n"
    }
   },
   "outputs": [],
   "source": [
    "o3d_pc = o3d.io.read_point_cloud(reader.file.split(sep='.')[0]+'.txt', format='xyz')\n",
    "downpc = o3d_pc.uniform_down_sample(100)\n",
    "downpc_array = pd.DataFrame(np.asarray(downpc.points), columns = ['x [nm]','y [nm]','z [nm]'])"
   ]
  },
  {
   "cell_type": "code",
   "execution_count": null,
   "id": "b63af1d9",
   "metadata": {},
   "outputs": [],
   "source": [
    "o3d_pc"
   ]
  },
  {
   "cell_type": "code",
   "execution_count": null,
   "id": "1cb6a89e",
   "metadata": {},
   "outputs": [],
   "source": [
    "viz2 = Visualization3D(downpc_array).get_3d_scatter(size=1).show()"
   ]
  },
  {
   "cell_type": "markdown",
   "id": "0eb34eda",
   "metadata": {},
   "source": [
    "### Find optimal eps for DBSCAN"
   ]
  },
  {
   "cell_type": "code",
   "execution_count": null,
   "id": "4615bcf7",
   "metadata": {},
   "outputs": [],
   "source": [
    "from sklearn.neighbors import NearestNeighbors\n",
    "import numpy as np\n",
    "import matplotlib.pyplot as plt \n",
    "\n",
    "nbrs = NearestNeighbors(n_neighbors=20).fit(data_xyz)\n",
    "distances, indices = nbrs.kneighbors(downpc_array)\n",
    "distances = distances[:,2]\n",
    "distances = np.sort(distances, axis=0)\n",
    "plt.plot(distances)"
   ]
  },
  {
   "cell_type": "markdown",
   "id": "66aae104",
   "metadata": {},
   "source": [
    "### Try out HDBSCAN for denoising"
   ]
  },
  {
   "cell_type": "code",
   "execution_count": null,
   "id": "64c068b3",
   "metadata": {
    "pycharm": {
     "name": "#%%\n"
    }
   },
   "outputs": [],
   "source": [
    "import hdbscan\n",
    "clusterer = hdbscan.HDBSCAN(min_cluster_size=40, min_samples=None, algorithm='best', alpha=0.7,metric='euclidean')\n",
    "clusterer.fit(data_xyz)"
   ]
  },
  {
   "cell_type": "code",
   "execution_count": null,
   "id": "57e8acf8",
   "metadata": {},
   "outputs": [],
   "source": [
    "clusterer.labels_"
   ]
  },
  {
   "cell_type": "code",
   "execution_count": null,
   "id": "1b7f2d72",
   "metadata": {},
   "outputs": [],
   "source": [
    "len(clusterer.labels_)"
   ]
  },
  {
   "cell_type": "code",
   "execution_count": null,
   "id": "93058bc1",
   "metadata": {},
   "outputs": [],
   "source": [
    "type(clusterer.labels_)"
   ]
  },
  {
   "cell_type": "code",
   "execution_count": null,
   "id": "e2c530e0",
   "metadata": {},
   "outputs": [],
   "source": [
    "np.unique(clusterer.labels_)"
   ]
  },
  {
   "cell_type": "code",
   "execution_count": null,
   "id": "07a7ebfe",
   "metadata": {
    "pycharm": {
     "name": "#%%\n"
    }
   },
   "outputs": [],
   "source": [
    "import seaborn as sns"
   ]
  },
  {
   "cell_type": "code",
   "execution_count": null,
   "id": "c8da6eab",
   "metadata": {
    "pycharm": {
     "name": "#%%\n"
    }
   },
   "outputs": [],
   "source": [
    "threshold = pd.Series(clusterer.outlier_scores_).quantile(0.8)\n",
    "outliers = np.where(clusterer.outlier_scores_ > threshold)[0]"
   ]
  },
  {
   "cell_type": "code",
   "execution_count": null,
   "id": "e7f0fc66",
   "metadata": {},
   "outputs": [],
   "source": [
    "color_palette = sns.color_palette('deep', 3508)\n",
    "cluster_colors = [color_palette[x] if x >= 0\n",
    "                  else (0.5, 0.5, 0.5)\n",
    "                  for x in clusterer.labels_]\n",
    "vis = Visualization3D(data_xyz).get_3d_scatter(color = cluster_colors, size = 1).show()"
   ]
  },
  {
   "cell_type": "markdown",
   "id": "0e376914",
   "metadata": {},
   "source": [
    "### Extract clusters"
   ]
  },
  {
   "cell_type": "code",
   "execution_count": null,
   "id": "8ef71f4a",
   "metadata": {},
   "outputs": [],
   "source": [
    "clusterer.labels_[200]"
   ]
  },
  {
   "cell_type": "code",
   "execution_count": null,
   "id": "4995e260",
   "metadata": {},
   "outputs": [],
   "source": [
    "itemindex = np.where(clusterer.labels_ == clusterer.labels_[1])"
   ]
  },
  {
   "cell_type": "code",
   "execution_count": null,
   "id": "b24c0521",
   "metadata": {},
   "outputs": [],
   "source": [
    "np.unique(clusterer.labels_)"
   ]
  },
  {
   "cell_type": "code",
   "execution_count": null,
   "id": "558186c6",
   "metadata": {},
   "outputs": [],
   "source": [
    "cluster = data_xyz.iloc[itemindex]"
   ]
  },
  {
   "cell_type": "code",
   "execution_count": null,
   "id": "e715a4e9",
   "metadata": {},
   "outputs": [],
   "source": [
    "type(clusterer.labels_s_)"
   ]
  },
  {
   "cell_type": "code",
   "execution_count": null,
   "id": "f5ec1637",
   "metadata": {},
   "outputs": [],
   "source": [
    "data_xyz.insert(3,\"label\",clusterer.labels_)"
   ]
  },
  {
   "cell_type": "code",
   "execution_count": null,
   "id": "37e1c9a2",
   "metadata": {},
   "outputs": [],
   "source": [
    "data_xyz.to_csv('/home/dim26fa/data/ries_lab_data/labeled/labeled_201008_U2OS-Nup96-SNAP-AF647-anti-Elys-CF660C_cell3_sml.csv')"
   ]
  },
  {
   "cell_type": "code",
   "execution_count": null,
   "id": "536441d3",
   "metadata": {},
   "outputs": [],
   "source": [
    "cluster"
   ]
  },
  {
   "cell_type": "code",
   "execution_count": null,
   "id": "23cb6213",
   "metadata": {},
   "outputs": [],
   "source": [
    "path = '/home/dim26fa/data/ries_lab_data/extracted_clusters/hdbscan40_201008_U2OS-Nup96-SNAP-AF647-anti-Elys-CF660C_cell1_sml/'"
   ]
  },
  {
   "cell_type": "code",
   "execution_count": null,
   "id": "c203a9ac",
   "metadata": {},
   "outputs": [],
   "source": [
    "for label in clusterer.labels_:\n",
    "    indices = np.where(clusterer.labels_ == label)\n",
    "    cluster = data_xyz.iloc[indices]\n",
    "    cluster.to_csv(path + str(label) + '.csv', index=False)"
   ]
  },
  {
   "cell_type": "code",
   "execution_count": null,
   "id": "2fda5342",
   "metadata": {},
   "outputs": [],
   "source": [
    "reader.data"
   ]
  },
  {
   "cell_type": "code",
   "execution_count": null,
   "id": "8c2d9c55",
   "metadata": {},
   "outputs": [],
   "source": [
    "reader.data = pd.read_csv('/home/dim26fa/data/ries_lab_data/extracted_clusters/hdbscan40_201008_U2OS-Nup96-SNAP-AF647-anti-Elys-CF660C_cell1_sml/1356.csv')\n",
    "data_xyz_cluster = reader.extract_xyz(column_names=['x','y','z'])"
   ]
  },
  {
   "cell_type": "code",
   "execution_count": null,
   "id": "fba7dcac",
   "metadata": {},
   "outputs": [],
   "source": [
    "reader.data"
   ]
  },
  {
   "cell_type": "code",
   "execution_count": null,
   "id": "4a44c484",
   "metadata": {},
   "outputs": [],
   "source": [
    "vis_cluster = Visualization3D(data_xyz_cluster).get_3d_scatter(size=2, color='red').show()"
   ]
  },
  {
   "cell_type": "markdown",
   "id": "d132d251",
   "metadata": {},
   "source": [
    "### Denoise point cloud"
   ]
  },
  {
   "cell_type": "code",
   "execution_count": null,
   "id": "ca3a1bc0",
   "metadata": {},
   "outputs": [],
   "source": [
    "outliers"
   ]
  },
  {
   "cell_type": "code",
   "execution_count": null,
   "id": "c7416546",
   "metadata": {},
   "outputs": [],
   "source": [
    "data_without_outliers = downpc_array.drop(downpc_array.index[outliers])"
   ]
  },
  {
   "cell_type": "code",
   "execution_count": null,
   "id": "b7e7f53b",
   "metadata": {},
   "outputs": [],
   "source": [
    "viz4 = Visualization3D(data_without_outliers).get_3d_scatter(size=2, color='red').show()"
   ]
  },
  {
   "cell_type": "markdown",
   "id": "ce816586",
   "metadata": {},
   "source": [
    "### Construct graphs "
   ]
  },
  {
   "cell_type": "code",
   "execution_count": null,
   "id": "dd8ced05",
   "metadata": {},
   "outputs": [],
   "source": [
    "from sklearn.neighbors import KNeighborsTransformer\n",
    "import networkx as nx\n",
    "from pyvis.network import Network\n",
    "import matplotlib.pyplot as plt"
   ]
  },
  {
   "cell_type": "code",
   "execution_count": null,
   "id": "eb81d40d",
   "metadata": {},
   "outputs": [],
   "source": [
    "pc_size = len(data_without_outliers)"
   ]
  },
  {
   "cell_type": "code",
   "execution_count": null,
   "id": "351cb815",
   "metadata": {},
   "outputs": [],
   "source": [
    "transformer = KNeighborsTransformer(n_neighbors = 25, algorithm='kd_tree')\n",
    "transformer.fit_transform(data_xyz_cluster)"
   ]
  },
  {
   "cell_type": "code",
   "execution_count": null,
   "id": "3ee50b56",
   "metadata": {},
   "outputs": [],
   "source": [
    "graph = transformer.kneighbors_graph()\n",
    "nx_graph = nx.from_numpy_array(graph.toarray())\n",
    "len(nx_graph.edges)"
   ]
  },
  {
   "cell_type": "code",
   "execution_count": null,
   "id": "23c53177",
   "metadata": {},
   "outputs": [],
   "source": [
    "plt.imshow(graph.toarray(), cmap='jet')"
   ]
  },
  {
   "cell_type": "code",
   "execution_count": null,
   "id": "4413b582",
   "metadata": {},
   "outputs": [],
   "source": [
    "net = Network(notebook = True)\n",
    "net.show_buttons(filter_=['physics'])\n",
    "net.from_nx(nx_graph)\n",
    "net.show('graph.html')"
   ]
  },
  {
   "cell_type": "code",
   "execution_count": null,
   "id": "0f6f0b61",
   "metadata": {},
   "outputs": [],
   "source": [
    "A=list(nx_graph.subgraph(c).copy() for c in nx.connected_components(nx_graph))"
   ]
  },
  {
   "cell_type": "code",
   "execution_count": null,
   "id": "ef0b61cd",
   "metadata": {},
   "outputs": [],
   "source": [
    "net = Network(notebook = True)\n",
    "net.show_buttons(filter_=['physics'])\n",
    "net.from_nx(A[0])\n",
    "net.show('graph.html')"
   ]
  }
 ],
 "metadata": {
  "kernelspec": {
   "display_name": "gpu2",
   "language": "python",
   "name": "gpu2"
  },
  "language_info": {
   "codemirror_mode": {
    "name": "ipython",
    "version": 3
   },
   "file_extension": ".py",
   "mimetype": "text/x-python",
   "name": "python",
   "nbconvert_exporter": "python",
   "pygments_lexer": "ipython3",
   "version": "3.9.7"
  }
 },
 "nbformat": 4,
 "nbformat_minor": 5
}
