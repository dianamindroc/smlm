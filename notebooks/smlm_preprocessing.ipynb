{
 "cells": [
  {
   "cell_type": "markdown",
   "id": "11a7ec2e",
   "metadata": {},
   "source": []
  },
  {
   "cell_type": "code",
   "execution_count": null,
   "id": "cf40d1ee",
   "metadata": {},
   "outputs": [],
   "source": [
    "# import necessary functions and libraries\n",
    "from helpers.readers import Reader\n",
    "from helpers.visualization import Visualization3D\n",
    "from sklearn.cluster import DBSCAN \n",
    "import open3d as o3d\n",
    "import numpy as np \n",
    "import pandas as pd\n",
    "import hdbscan\n",
    "import plotly.express as px\n",
    "\n",
    "# read data from \n",
    "reader = Reader('/Users/dianamindroc/Desktop/PhD/Data/suresim_simulations/IMOD_models/model_0')\n",
    "reader.get_folders('0')"
   ]
  },
  {
   "cell_type": "markdown",
   "id": "4bdd0358",
   "metadata": {},
   "source": []
  },
  {
   "cell_type": "code",
   "execution_count": null,
   "id": "fdfa9153",
   "metadata": {},
   "outputs": [],
   "source": [
    "reader.get_files_from_folder(0)\n",
    "reader.filter('.txt')\n",
    "reader.set_file(1)"
   ]
  },
  {
   "cell_type": "code",
   "execution_count": null,
   "id": "a0a9d483",
   "metadata": {},
   "outputs": [],
   "source": [
    "data = reader.read_txt(columns = 4)\n",
    "data_xyz = reader.extract_xyz(column_names=[0,1,2])"
   ]
  },
  {
   "cell_type": "code",
   "execution_count": null,
   "id": "7e644eb9",
   "metadata": {},
   "outputs": [],
   "source": [
    "len(data_xyz)"
   ]
  },
  {
   "cell_type": "code",
   "execution_count": null,
   "id": "f04079a4",
   "metadata": {},
   "outputs": [],
   "source": [
    "viz = Visualization3D(data_xyz).get_3d_scatter(color='red').show()"
   ]
  },
  {
   "cell_type": "code",
   "execution_count": null,
   "id": "7fff5e31",
   "metadata": {},
   "outputs": [],
   "source": [
    "o3d_pc = o3d.io.read_point_cloud(reader.folder + '/' + reader.file, format = 'xyz')\n",
    "downpc = o3d_pc.voxel_down_sample(voxel_size = 100)\n",
    "type(downpc)\n",
    "downpc_array = pd.DataFrame(np.asarray(downpc.points), columns = ['x','y','z'])"
   ]
  },
  {
   "cell_type": "code",
   "execution_count": null,
   "id": "24929773",
   "metadata": {
    "pycharm": {
     "name": "#%%\n"
    }
   },
   "outputs": [],
   "source": [
    "import os\n",
    "o3d_pc = o3d.io.read_point_cloud(os.path.join(reader.folder, reader.file), format='xyz')\n",
    "downpc = o3d_pc.uniform_down_sample(100)\n",
    "downpc_array = pd.DataFrame(np.asarray(downpc.points), columns = ['x','y','z'])"
   ]
  },
  {
   "cell_type": "code",
   "execution_count": null,
   "id": "9b3aece8",
   "metadata": {},
   "outputs": [],
   "source": [
    "len(downpc_array)"
   ]
  },
  {
   "cell_type": "code",
   "execution_count": null,
   "id": "999dbbbe",
   "metadata": {
    "pycharm": {
     "name": "#%%\n"
    }
   },
   "outputs": [],
   "source": [
    "from helpers.visualization import Visualization3D"
   ]
  },
  {
   "cell_type": "code",
   "execution_count": null,
   "id": "1cb6a89e",
   "metadata": {},
   "outputs": [],
   "source": [
    "viz2 = Visualization3D(downpc_array).get_3d_scatter().show()"
   ]
  },
  {
   "cell_type": "markdown",
   "id": "0eb34eda",
   "metadata": {},
   "source": [
    "### Find optimal eps for DBSCAN"
   ]
  },
  {
   "cell_type": "code",
   "execution_count": null,
   "id": "4615bcf7",
   "metadata": {},
   "outputs": [],
   "source": [
    "from sklearn.neighbors import NearestNeighbors\n",
    "import numpy as np\n",
    "import matplotlib.pyplot as plt \n",
    "\n",
    "nbrs = NearestNeighbors(n_neighbors=20).fit(data_xyz)\n",
    "distances, indices = nbrs.kneighbors(downpc_array)\n",
    "distances = distances[:,2]\n",
    "distances = np.sort(distances, axis=0)\n",
    "plt.plot(distances)"
   ]
  },
  {
   "cell_type": "code",
   "execution_count": null,
   "id": "64c068b3",
   "metadata": {
    "pycharm": {
     "name": "#%%\n"
    }
   },
   "outputs": [],
   "source": [
    "import hdbscan\n",
    "clusterer = hdbscan.HDBSCAN(min_cluster_size=10, gen_min_span_tree=True, algorithm='best', alpha=0.7,metric='euclidean')\n",
    "clusterer.fit(data_xyz)"
   ]
  },
  {
   "cell_type": "code",
   "execution_count": null,
   "id": "de08149f",
   "metadata": {
    "pycharm": {
     "name": "#%%\n"
    }
   },
   "outputs": [],
   "source": [
    "clusterer.minimum_spanning_tree_.plot(edge_cmap='viridis', edge_alpha=0.6, node_size=10, edge_linewidth=2)"
   ]
  },
  {
   "cell_type": "code",
   "execution_count": null,
   "id": "6794593f",
   "metadata": {
    "pycharm": {
     "name": "#%%\n"
    }
   },
   "outputs": [],
   "source": [
    "clusterer.outlier_scores_"
   ]
  },
  {
   "cell_type": "code",
   "execution_count": null,
   "id": "07a7ebfe",
   "metadata": {
    "pycharm": {
     "name": "#%%\n"
    }
   },
   "outputs": [],
   "source": [
    "import seaborn as sns\n",
    "sns.displot(clusterer.outlier_scores_[np.isfinite(clusterer.outlier_scores_)])"
   ]
  },
  {
   "cell_type": "code",
   "execution_count": null,
   "id": "c8da6eab",
   "metadata": {
    "pycharm": {
     "name": "#%%\n"
    }
   },
   "outputs": [],
   "source": [
    "threshold = pd.Series(clusterer.outlier_scores_).quantile(0.5)\n",
    "outliers = np.where(clusterer.outlier_scores_ > threshold)[0]"
   ]
  },
  {
   "cell_type": "code",
   "execution_count": null,
   "id": "f7347243",
   "metadata": {
    "pycharm": {
     "name": "#%%\n"
    }
   },
   "outputs": [],
   "source": [
    "visualizer = Visualization3D(data_xyz).get_3d_scatter(color=outliers, size=2).show()"
   ]
  },
  {
   "cell_type": "markdown",
   "id": "5ec2e904",
   "metadata": {},
   "source": []
  },
  {
   "cell_type": "markdown",
   "id": "d132d251",
   "metadata": {},
   "source": [
    "### Denoise point cloud"
   ]
  },
  {
   "cell_type": "code",
   "execution_count": null,
   "id": "fc904c3b",
   "metadata": {},
   "outputs": [],
   "source": [
    "pc = DBSCAN(eps = 100, min_samples = 6).fit(downpc_array)\n",
    "print (pc)\n",
    "type(pc)"
   ]
  },
  {
   "cell_type": "code",
   "execution_count": null,
   "id": "ca3a1bc0",
   "metadata": {},
   "outputs": [],
   "source": [
    "downpc_array[pc.labels_ == -1]"
   ]
  },
  {
   "cell_type": "code",
   "execution_count": null,
   "id": "3bef6711",
   "metadata": {},
   "outputs": [],
   "source": [
    "#fig = px.scatter_3d(x = downpc_array['x'], y = downpc_array['y'], z = downpc_array['z'], color = pc.labels_)\n",
    "viz3 = Visualization3D(downpc_array).get_3d_scatter(size=2, color=pc.labels_).show()"
   ]
  },
  {
   "cell_type": "code",
   "execution_count": null,
   "id": "c7416546",
   "metadata": {},
   "outputs": [],
   "source": [
    "data_without_outliers = downpc_array.drop(downpc_array[pc.labels_==-1].index)"
   ]
  },
  {
   "cell_type": "code",
   "execution_count": null,
   "id": "b7e7f53b",
   "metadata": {},
   "outputs": [],
   "source": [
    "viz4 = Visualization3D(data_without_outliers).get_3d_scatter(size=2, color=pc.labels_[pc.labels_ != -1]).show()"
   ]
  },
  {
   "cell_type": "markdown",
   "id": "ce816586",
   "metadata": {},
   "source": [
    "### Construct graphs "
   ]
  },
  {
   "cell_type": "code",
   "execution_count": null,
   "id": "dd8ced05",
   "metadata": {},
   "outputs": [],
   "source": [
    "from sklearn.neighbors import KNeighborsTransformer\n",
    "import networkx as nx\n",
    "from pyvis.network import Network\n",
    "import matplotlib.pyplot as plt"
   ]
  },
  {
   "cell_type": "code",
   "execution_count": null,
   "id": "351cb815",
   "metadata": {},
   "outputs": [],
   "source": [
    "transformer = KNeighborsTransformer(n_neighbors = 6, algorithm='ball_tree')\n",
    "transformer.fit_transform(data_without_outliers)"
   ]
  },
  {
   "cell_type": "code",
   "execution_count": null,
   "id": "3ee50b56",
   "metadata": {},
   "outputs": [],
   "source": [
    "graph = transformer.kneighbors_graph()\n",
    "nx_graph = nx.from_numpy_array(graph.toarray())\n",
    "len(nx_graph.edges)"
   ]
  },
  {
   "cell_type": "code",
   "execution_count": null,
   "id": "23c53177",
   "metadata": {},
   "outputs": [],
   "source": [
    "plt.imshow(graph.toarray(), cmap='jet')"
   ]
  },
  {
   "cell_type": "code",
   "execution_count": null,
   "id": "4413b582",
   "metadata": {},
   "outputs": [],
   "source": [
    "net = Network(notebook = True)\n",
    "net.show_buttons(filter_=['physics'])\n",
    "net.from_nx(nx_graph)\n",
    "net.show('graph.html')"
   ]
  },
  {
   "cell_type": "code",
   "execution_count": null,
   "id": "0f6f0b61",
   "metadata": {},
   "outputs": [],
   "source": [
    "A=list(nx_graph.subgraph(c).copy() for c in nx.connected_components(nx_graph))"
   ]
  },
  {
   "cell_type": "code",
   "execution_count": null,
   "id": "ef0b61cd",
   "metadata": {},
   "outputs": [],
   "source": [
    "net = Network(notebook = True)\n",
    "net.show_buttons(filter_=['physics'])\n",
    "net.from_nx(A[0])\n",
    "net.show('graph.html')"
   ]
  }
 ],
 "metadata": {
  "kernelspec": {
   "display_name": "Python 3 (ipykernel)",
   "language": "python",
   "name": "python3"
  },
  "language_info": {
   "codemirror_mode": {
    "name": "ipython",
    "version": 3
   },
   "file_extension": ".py",
   "mimetype": "text/x-python",
   "name": "python",
   "nbconvert_exporter": "python",
   "pygments_lexer": "ipython3",
   "version": "3.9.12"
  }
 },
 "nbformat": 4,
 "nbformat_minor": 5
}
